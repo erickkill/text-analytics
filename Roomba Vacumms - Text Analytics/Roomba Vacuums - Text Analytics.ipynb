{
 "cells": [
  {
   "cell_type": "markdown",
   "metadata": {},
   "source": [
    "# Roomba Vacuums - Text Analytics\n",
    "\n",
    "For this analysis I will breakdown customer's reviews for the famous self operating robot vacumms by [iRobot](https://www.irobot.com/roomba?gclid=CjwKCAiA6vXwBRBKEiwAYE7iSzVrllMR9lvWM5JJ2Nj_dMHJbhYwYHuSgomDY8sv4hqfjr3eFDnD6hoCFK8QAvD_BwE&gclsrc=aw.ds).\n",
    "\n",
    "Column names include:\n",
    "1. Date - the date the review was left for the product.\n",
    "2. Product - which model the review is being left for.\n",
    "3. Stars - what was the rating given for the review out of 5.\n",
    "4. Review - the full review left by the customer on a single product."
   ]
  },
  {
   "cell_type": "code",
   "execution_count": 1,
   "metadata": {},
   "outputs": [
    {
     "name": "stderr",
     "output_type": "stream",
     "text": [
      "Warning message:\n",
      "\"package 'tidyverse' was built under R version 3.6.2\"-- Attaching packages --------------------------------------- tidyverse 1.3.0 --\n",
      "v ggplot2 3.2.1     v purrr   0.3.3\n",
      "v tibble  2.1.3     v dplyr   0.8.3\n",
      "v tidyr   1.0.0     v stringr 1.4.0\n",
      "v readr   1.3.1     v forcats 0.4.0\n",
      "Warning message:\n",
      "\"package 'ggplot2' was built under R version 3.6.2\"Warning message:\n",
      "\"package 'tibble' was built under R version 3.6.2\"Warning message:\n",
      "\"package 'tidyr' was built under R version 3.6.2\"Warning message:\n",
      "\"package 'readr' was built under R version 3.6.2\"Warning message:\n",
      "\"package 'purrr' was built under R version 3.6.2\"Warning message:\n",
      "\"package 'dplyr' was built under R version 3.6.2\"Warning message:\n",
      "\"package 'stringr' was built under R version 3.6.2\"Warning message:\n",
      "\"package 'forcats' was built under R version 3.6.2\"-- Conflicts ------------------------------------------ tidyverse_conflicts() --\n",
      "x dplyr::filter() masks stats::filter()\n",
      "x dplyr::lag()    masks stats::lag()\n",
      "Warning message:\n",
      "\"package 'tidytext' was built under R version 3.6.2\""
     ]
    }
   ],
   "source": [
    "library(tidyverse)\n",
    "library(tidytext)"
   ]
  },
  {
   "cell_type": "markdown",
   "metadata": {},
   "source": [
    "### Importing Data"
   ]
  },
  {
   "cell_type": "code",
   "execution_count": 2,
   "metadata": {},
   "outputs": [
    {
     "name": "stderr",
     "output_type": "stream",
     "text": [
      "Parsed with column specification:\n",
      "cols(\n",
      "  Date = col_character(),\n",
      "  Product = col_character(),\n",
      "  Stars = col_double(),\n",
      "  Title = col_character(),\n",
      "  Review = col_character()\n",
      ")\n"
     ]
    },
    {
     "data": {
      "text/html": [
       "<table>\n",
       "<thead><tr><th scope=col>Date</th><th scope=col>Product</th><th scope=col>Stars</th><th scope=col>Title</th><th scope=col>Review</th></tr></thead>\n",
       "<tbody>\n",
       "\t<tr><td>2/28/15                                                                                                                                                                                                                                                                                                                                                                                                                                                                                                                                                                                                                                                                                                                                                                                                                                                                                                                                                                                                                                                                 </td><td>iRobot Roomba 650 for Pets                                                                                                                                                                                                                                                                                                                                                                                                                                                                                                                                                                                                                                                                                                                                                                                                                                                                                                                                                                                                                                              </td><td>5                                                                                                                                                                                                                                                                                                                                                                                                                                                                                                                                                                                                                                                                                                                                                                                                                                                                                                                                                                                                                                                                       </td><td>Five Stars                                                                                                                                                                                                                                                                                                                                                                                                                                                                                                                                                                                                                                                                                                                                                                                                                                                                                                                                                                                                                                                              </td><td>You would not believe how well this works                                                                                                                                                                                                                                                                                                                                                                                                                                                                                                                                                                                                                                                                                                                                                                                                                                                                                                                                                                                                                               </td></tr>\n",
       "\t<tr><td>1/12/15                                                                                                                                                                                                                                                                                                                                                                                                                                                                                                                                                                                                                                                                                                                                                                                                                                                                                                                                                                                                                                                                 </td><td>iRobot Roomba 650 for Pets                                                                                                                                                                                                                                                                                                                                                                                                                                                                                                                                                                                                                                                                                                                                                                                                                                                                                                                                                                                                                                              </td><td>4                                                                                                                                                                                                                                                                                                                                                                                                                                                                                                                                                                                                                                                                                                                                                                                                                                                                                                                                                                                                                                                                       </td><td>Four Stars                                                                                                                                                                                                                                                                                                                                                                                                                                                                                                                                                                                                                                                                                                                                                                                                                                                                                                                                                                                                                                                              </td><td>You just walk away and it does the rest                                                                                                                                                                                                                                                                                                                                                                                                                                                                                                                                                                                                                                                                                                                                                                                                                                                                                                                                                                                                                                 </td></tr>\n",
       "\t<tr><td>12/26/13                                                                                                                                                                                                                                                                                                                                                                                                                                                                                                                                                                                                                                                                                                                                                                                                                                                                                                                                                                                                                                                                </td><td>iRobot Roomba 650 for Pets                                                                                                                                                                                                                                                                                                                                                                                                                                                                                                                                                                                                                                                                                                                                                                                                                                                                                                                                                                                                                                              </td><td>5                                                                                                                                                                                                                                                                                                                                                                                                                                                                                                                                                                                                                                                                                                                                                                                                                                                                                                                                                                                                                                                                       </td><td>Awesome love it.                                                                                                                                                                                                                                                                                                                                                                                                                                                                                                                                                                                                                                                                                                                                                                                                                                                                                                                                                                                                                                                        </td><td>You have to Roomba proof your house but once that is done it is awesome. It's like having a pet that cleans.                                                                                                                                                                                                                                                                                                                                                                                                                                                                                                                                                                                                                                                                                                                                                                                                                                                                                                                                                            </td></tr>\n",
       "\t<tr><td>8/4/13                                                                                                                                                                                                                                                                                                                                                                                                                                                                                                                                                                                                                                                                                                                                                                                                                                                                                                                                                                                                                                                                  </td><td>iRobot Roomba 650 for Pets                                                                                                                                                                                                                                                                                                                                                                                                                                                                                                                                                                                                                                                                                                                                                                                                                                                                                                                                                                                                                                              </td><td>3                                                                                                                                                                                                                                                                                                                                                                                                                                                                                                                                                                                                                                                                                                                                                                                                                                                                                                                                                                                                                                                                       </td><td>Love-hate this vaccuum                                                                                                                                                                                                                                                                                                                                                                                                                                                                                                                                                                                                                                                                                                                                                                                                                                                                                                                                                                                                                                                  </td><td>Yes, it's a fascinating, albeit expensive, bit of technology. That said, it is a pain in the butt to clean - every time, if you have the model for pets. Cat hair will clog it in one small room. On the plus side, it gets under the bed, where there could be more pet hair than I care to admit. Can two short haired cats shed faster than Roomba can clean? Will my patience wear out, before my picks, and tweezers and screwdriver? Stay tuned...                                                                                                                                                                                                                                                                                                                                                                                                                                                                                                                                                                                                                </td></tr>\n",
       "\t<tr><td>12/22/15                                                                                                                                                                                                                                                                                                                                                                                                                                                                                                                                                                                                                                                                                                                                                                                                                                                                                                                                                                                                                                                                </td><td>iRobot Roomba 650 for Pets                                                                                                                                                                                                                                                                                                                                                                                                                                                                                                                                                                                                                                                                                                                                                                                                                                                                                                                                                                                                                                              </td><td>5                                                                                                                                                                                                                                                                                                                                                                                                                                                                                                                                                                                                                                                                                                                                                                                                                                                                                                                                                                                                                                                                       </td><td>This vacuum is fantastic!!                                                                                                                                                                                                                                                                                                                                                                                                                                                                                                                                                                                                                                                                                                                                                                                                                                                                                                                                                                                                                                              </td><td>Years ago I bought one of the original Roomba's and was underwhelmed - it was slow and got stuck in corners.  But I'm lazy at heart, so decided to try again - and this model is amazing!!  First - no problem in corners - it spins and backs out.  (It also has a spinning brush on the side which whisks all those dust devils out of the corner into the vacuum).  Also, it goes easily from carpet to hardwood floor to doormat and back.  If it encounters a cord on the floor, it backs up and comes back in from another angle.  And I know it's weird to think about - how the heck does it figure out your floor plan, especially when it seems to go in random directions?  It all gets down to math, my friends, and the engineers at Roomba worked it out.  We use it for individual rooms (like our muddy utility room), and for entire house runs.  It's great if you have a dog (you wouldn't believe how much dog hair is under your couch).  Easy to clean, easy to set up and definately easy to use.  (You push a button and walk away!)  Great buy.</td></tr>\n",
       "\t<tr><td>12/27/15                                                                                                                                                                                                                                                                                                                                                                                                                                                                                                                                                                                                                                                                                                                                                                                                                                                                                                                                                                                                                                                                </td><td>iRobot Roomba 650 for Pets                                                                                                                                                                                                                                                                                                                                                                                                                                                                                                                                                                                                                                                                                                                                                                                                                                                                                                                                                                                                                                              </td><td>5                                                                                                                                                                                                                                                                                                                                                                                                                                                                                                                                                                                                                                                                                                                                                                                                                                                                                                                                                                                                                                                                       </td><td>Wow!                                                                                                                                                                                                                                                                                                                                                                                                                                                                                                                                                                                                                                                                                                                                                                                                                                                                                                                                                                                                                                                                    </td><td>Wow.Wow.  I never knew my floors were so dirty before this!  I've set my \"Room by\" to clean every day.  I am astounded each day when I empty the bin.  Where did all this come from??  I have 3 small dogs and can't believe I've spent years living in what I would now consider gross based on what I dump out each day.  I haven't had to vacuum in weeks!  I am going to get this for my 70+ parents. Best invention ever!!!                                                                                                                                                                                                                                                                                                                                                                                                                                                                                                                                                                                                                                        </td></tr>\n",
       "</tbody>\n",
       "</table>\n"
      ],
      "text/latex": [
       "\\begin{tabular}{r|lllll}\n",
       " Date & Product & Stars & Title & Review\\\\\n",
       "\\hline\n",
       "\t 2/28/15                                                                                                                                                                                                                                                                                                                                                                                                                                                                                                                                                                                                                                                                                                                                                                                                                                                                                                                                                                                                                                                                  & iRobot Roomba 650 for Pets                                                                                                                                                                                                                                                                                                                                                                                                                                                                                                                                                                                                                                                                                                                                                                                                                                                                                                                                                                                                                                               & 5                                                                                                                                                                                                                                                                                                                                                                                                                                                                                                                                                                                                                                                                                                                                                                                                                                                                                                                                                                                                                                                                        & Five Stars                                                                                                                                                                                                                                                                                                                                                                                                                                                                                                                                                                                                                                                                                                                                                                                                                                                                                                                                                                                                                                                               & You would not believe how well this works                                                                                                                                                                                                                                                                                                                                                                                                                                                                                                                                                                                                                                                                                                                                                                                                                                                                                                                                                                                                                               \\\\\n",
       "\t 1/12/15                                                                                                                                                                                                                                                                                                                                                                                                                                                                                                                                                                                                                                                                                                                                                                                                                                                                                                                                                                                                                                                                  & iRobot Roomba 650 for Pets                                                                                                                                                                                                                                                                                                                                                                                                                                                                                                                                                                                                                                                                                                                                                                                                                                                                                                                                                                                                                                               & 4                                                                                                                                                                                                                                                                                                                                                                                                                                                                                                                                                                                                                                                                                                                                                                                                                                                                                                                                                                                                                                                                        & Four Stars                                                                                                                                                                                                                                                                                                                                                                                                                                                                                                                                                                                                                                                                                                                                                                                                                                                                                                                                                                                                                                                               & You just walk away and it does the rest                                                                                                                                                                                                                                                                                                                                                                                                                                                                                                                                                                                                                                                                                                                                                                                                                                                                                                                                                                                                                                 \\\\\n",
       "\t 12/26/13                                                                                                                                                                                                                                                                                                                                                                                                                                                                                                                                                                                                                                                                                                                                                                                                                                                                                                                                                                                                                                                                 & iRobot Roomba 650 for Pets                                                                                                                                                                                                                                                                                                                                                                                                                                                                                                                                                                                                                                                                                                                                                                                                                                                                                                                                                                                                                                               & 5                                                                                                                                                                                                                                                                                                                                                                                                                                                                                                                                                                                                                                                                                                                                                                                                                                                                                                                                                                                                                                                                        & Awesome love it.                                                                                                                                                                                                                                                                                                                                                                                                                                                                                                                                                                                                                                                                                                                                                                                                                                                                                                                                                                                                                                                         & You have to Roomba proof your house but once that is done it is awesome. It's like having a pet that cleans.                                                                                                                                                                                                                                                                                                                                                                                                                                                                                                                                                                                                                                                                                                                                                                                                                                                                                                                                                            \\\\\n",
       "\t 8/4/13                                                                                                                                                                                                                                                                                                                                                                                                                                                                                                                                                                                                                                                                                                                                                                                                                                                                                                                                                                                                                                                                   & iRobot Roomba 650 for Pets                                                                                                                                                                                                                                                                                                                                                                                                                                                                                                                                                                                                                                                                                                                                                                                                                                                                                                                                                                                                                                               & 3                                                                                                                                                                                                                                                                                                                                                                                                                                                                                                                                                                                                                                                                                                                                                                                                                                                                                                                                                                                                                                                                        & Love-hate this vaccuum                                                                                                                                                                                                                                                                                                                                                                                                                                                                                                                                                                                                                                                                                                                                                                                                                                                                                                                                                                                                                                                   & Yes, it's a fascinating, albeit expensive, bit of technology. That said, it is a pain in the butt to clean - every time, if you have the model for pets. Cat hair will clog it in one small room. On the plus side, it gets under the bed, where there could be more pet hair than I care to admit. Can two short haired cats shed faster than Roomba can clean? Will my patience wear out, before my picks, and tweezers and screwdriver? Stay tuned...                                                                                                                                                                                                                                                                                                                                                                                                                                                                                                                                                                                                                \\\\\n",
       "\t 12/22/15                                                                                                                                                                                                                                                                                                                                                                                                                                                                                                                                                                                                                                                                                                                                                                                                                                                                                                                                                                                                                                                                 & iRobot Roomba 650 for Pets                                                                                                                                                                                                                                                                                                                                                                                                                                                                                                                                                                                                                                                                                                                                                                                                                                                                                                                                                                                                                                               & 5                                                                                                                                                                                                                                                                                                                                                                                                                                                                                                                                                                                                                                                                                                                                                                                                                                                                                                                                                                                                                                                                        & This vacuum is fantastic!!                                                                                                                                                                                                                                                                                                                                                                                                                                                                                                                                                                                                                                                                                                                                                                                                                                                                                                                                                                                                                                               & Years ago I bought one of the original Roomba's and was underwhelmed - it was slow and got stuck in corners.  But I'm lazy at heart, so decided to try again - and this model is amazing!!  First - no problem in corners - it spins and backs out.  (It also has a spinning brush on the side which whisks all those dust devils out of the corner into the vacuum).  Also, it goes easily from carpet to hardwood floor to doormat and back.  If it encounters a cord on the floor, it backs up and comes back in from another angle.  And I know it's weird to think about - how the heck does it figure out your floor plan, especially when it seems to go in random directions?  It all gets down to math, my friends, and the engineers at Roomba worked it out.  We use it for individual rooms (like our muddy utility room), and for entire house runs.  It's great if you have a dog (you wouldn't believe how much dog hair is under your couch).  Easy to clean, easy to set up and definately easy to use.  (You push a button and walk away!)  Great buy.\\\\\n",
       "\t 12/27/15                                                                                                                                                                                                                                                                                                                                                                                                                                                                                                                                                                                                                                                                                                                                                                                                                                                                                                                                                                                                                                                                 & iRobot Roomba 650 for Pets                                                                                                                                                                                                                                                                                                                                                                                                                                                                                                                                                                                                                                                                                                                                                                                                                                                                                                                                                                                                                                               & 5                                                                                                                                                                                                                                                                                                                                                                                                                                                                                                                                                                                                                                                                                                                                                                                                                                                                                                                                                                                                                                                                        & Wow!                                                                                                                                                                                                                                                                                                                                                                                                                                                                                                                                                                                                                                                                                                                                                                                                                                                                                                                                                                                                                                                                     & Wow.Wow.  I never knew my floors were so dirty before this!  I've set my \"Room by\" to clean every day.  I am astounded each day when I empty the bin.  Where did all this come from??  I have 3 small dogs and can't believe I've spent years living in what I would now consider gross based on what I dump out each day.  I haven't had to vacuum in weeks!  I am going to get this for my 70+ parents. Best invention ever!!!                                                                                                                                                                                                                                                                                                                                                                                                                                                                                                                                                                                                                                        \\\\\n",
       "\\end{tabular}\n"
      ],
      "text/markdown": [
       "\n",
       "| Date | Product | Stars | Title | Review |\n",
       "|---|---|---|---|---|\n",
       "| 2/28/15                                                                                                                                                                                                                                                                                                                                                                                                                                                                                                                                                                                                                                                                                                                                                                                                                                                                                                                                                                                                                                                                  | iRobot Roomba 650 for Pets                                                                                                                                                                                                                                                                                                                                                                                                                                                                                                                                                                                                                                                                                                                                                                                                                                                                                                                                                                                                                                               | 5                                                                                                                                                                                                                                                                                                                                                                                                                                                                                                                                                                                                                                                                                                                                                                                                                                                                                                                                                                                                                                                                        | Five Stars                                                                                                                                                                                                                                                                                                                                                                                                                                                                                                                                                                                                                                                                                                                                                                                                                                                                                                                                                                                                                                                               | You would not believe how well this works                                                                                                                                                                                                                                                                                                                                                                                                                                                                                                                                                                                                                                                                                                                                                                                                                                                                                                                                                                                                                                |\n",
       "| 1/12/15                                                                                                                                                                                                                                                                                                                                                                                                                                                                                                                                                                                                                                                                                                                                                                                                                                                                                                                                                                                                                                                                  | iRobot Roomba 650 for Pets                                                                                                                                                                                                                                                                                                                                                                                                                                                                                                                                                                                                                                                                                                                                                                                                                                                                                                                                                                                                                                               | 4                                                                                                                                                                                                                                                                                                                                                                                                                                                                                                                                                                                                                                                                                                                                                                                                                                                                                                                                                                                                                                                                        | Four Stars                                                                                                                                                                                                                                                                                                                                                                                                                                                                                                                                                                                                                                                                                                                                                                                                                                                                                                                                                                                                                                                               | You just walk away and it does the rest                                                                                                                                                                                                                                                                                                                                                                                                                                                                                                                                                                                                                                                                                                                                                                                                                                                                                                                                                                                                                                  |\n",
       "| 12/26/13                                                                                                                                                                                                                                                                                                                                                                                                                                                                                                                                                                                                                                                                                                                                                                                                                                                                                                                                                                                                                                                                 | iRobot Roomba 650 for Pets                                                                                                                                                                                                                                                                                                                                                                                                                                                                                                                                                                                                                                                                                                                                                                                                                                                                                                                                                                                                                                               | 5                                                                                                                                                                                                                                                                                                                                                                                                                                                                                                                                                                                                                                                                                                                                                                                                                                                                                                                                                                                                                                                                        | Awesome love it.                                                                                                                                                                                                                                                                                                                                                                                                                                                                                                                                                                                                                                                                                                                                                                                                                                                                                                                                                                                                                                                         | You have to Roomba proof your house but once that is done it is awesome. It's like having a pet that cleans.                                                                                                                                                                                                                                                                                                                                                                                                                                                                                                                                                                                                                                                                                                                                                                                                                                                                                                                                                             |\n",
       "| 8/4/13                                                                                                                                                                                                                                                                                                                                                                                                                                                                                                                                                                                                                                                                                                                                                                                                                                                                                                                                                                                                                                                                   | iRobot Roomba 650 for Pets                                                                                                                                                                                                                                                                                                                                                                                                                                                                                                                                                                                                                                                                                                                                                                                                                                                                                                                                                                                                                                               | 3                                                                                                                                                                                                                                                                                                                                                                                                                                                                                                                                                                                                                                                                                                                                                                                                                                                                                                                                                                                                                                                                        | Love-hate this vaccuum                                                                                                                                                                                                                                                                                                                                                                                                                                                                                                                                                                                                                                                                                                                                                                                                                                                                                                                                                                                                                                                   | Yes, it's a fascinating, albeit expensive, bit of technology. That said, it is a pain in the butt to clean - every time, if you have the model for pets. Cat hair will clog it in one small room. On the plus side, it gets under the bed, where there could be more pet hair than I care to admit. Can two short haired cats shed faster than Roomba can clean? Will my patience wear out, before my picks, and tweezers and screwdriver? Stay tuned...                                                                                                                                                                                                                                                                                                                                                                                                                                                                                                                                                                                                                 |\n",
       "| 12/22/15                                                                                                                                                                                                                                                                                                                                                                                                                                                                                                                                                                                                                                                                                                                                                                                                                                                                                                                                                                                                                                                                 | iRobot Roomba 650 for Pets                                                                                                                                                                                                                                                                                                                                                                                                                                                                                                                                                                                                                                                                                                                                                                                                                                                                                                                                                                                                                                               | 5                                                                                                                                                                                                                                                                                                                                                                                                                                                                                                                                                                                                                                                                                                                                                                                                                                                                                                                                                                                                                                                                        | This vacuum is fantastic!!                                                                                                                                                                                                                                                                                                                                                                                                                                                                                                                                                                                                                                                                                                                                                                                                                                                                                                                                                                                                                                               | Years ago I bought one of the original Roomba's and was underwhelmed - it was slow and got stuck in corners.  But I'm lazy at heart, so decided to try again - and this model is amazing!!  First - no problem in corners - it spins and backs out.  (It also has a spinning brush on the side which whisks all those dust devils out of the corner into the vacuum).  Also, it goes easily from carpet to hardwood floor to doormat and back.  If it encounters a cord on the floor, it backs up and comes back in from another angle.  And I know it's weird to think about - how the heck does it figure out your floor plan, especially when it seems to go in random directions?  It all gets down to math, my friends, and the engineers at Roomba worked it out.  We use it for individual rooms (like our muddy utility room), and for entire house runs.  It's great if you have a dog (you wouldn't believe how much dog hair is under your couch).  Easy to clean, easy to set up and definately easy to use.  (You push a button and walk away!)  Great buy. |\n",
       "| 12/27/15                                                                                                                                                                                                                                                                                                                                                                                                                                                                                                                                                                                                                                                                                                                                                                                                                                                                                                                                                                                                                                                                 | iRobot Roomba 650 for Pets                                                                                                                                                                                                                                                                                                                                                                                                                                                                                                                                                                                                                                                                                                                                                                                                                                                                                                                                                                                                                                               | 5                                                                                                                                                                                                                                                                                                                                                                                                                                                                                                                                                                                                                                                                                                                                                                                                                                                                                                                                                                                                                                                                        | Wow!                                                                                                                                                                                                                                                                                                                                                                                                                                                                                                                                                                                                                                                                                                                                                                                                                                                                                                                                                                                                                                                                     | Wow.Wow.  I never knew my floors were so dirty before this!  I've set my \"Room by\" to clean every day.  I am astounded each day when I empty the bin.  Where did all this come from??  I have 3 small dogs and can't believe I've spent years living in what I would now consider gross based on what I dump out each day.  I haven't had to vacuum in weeks!  I am going to get this for my 70+ parents. Best invention ever!!!                                                                                                                                                                                                                                                                                                                                                                                                                                                                                                                                                                                                                                         |\n",
       "\n"
      ],
      "text/plain": [
       "  Date     Product                    Stars Title                     \n",
       "1 2/28/15  iRobot Roomba 650 for Pets 5     Five Stars                \n",
       "2 1/12/15  iRobot Roomba 650 for Pets 4     Four Stars                \n",
       "3 12/26/13 iRobot Roomba 650 for Pets 5     Awesome love it.          \n",
       "4 8/4/13   iRobot Roomba 650 for Pets 3     Love-hate this vaccuum    \n",
       "5 12/22/15 iRobot Roomba 650 for Pets 5     This vacuum is fantastic!!\n",
       "6 12/27/15 iRobot Roomba 650 for Pets 5     Wow!                      \n",
       "  Review                                                                                                                                                                                                                                                                                                                                                                                                                                                                                                                                                                                                                                                                                                                                                                                                                                                                                                                                                                                                                                                                  \n",
       "1 You would not believe how well this works                                                                                                                                                                                                                                                                                                                                                                                                                                                                                                                                                                                                                                                                                                                                                                                                                                                                                                                                                                                                                               \n",
       "2 You just walk away and it does the rest                                                                                                                                                                                                                                                                                                                                                                                                                                                                                                                                                                                                                                                                                                                                                                                                                                                                                                                                                                                                                                 \n",
       "3 You have to Roomba proof your house but once that is done it is awesome. It's like having a pet that cleans.                                                                                                                                                                                                                                                                                                                                                                                                                                                                                                                                                                                                                                                                                                                                                                                                                                                                                                                                                            \n",
       "4 Yes, it's a fascinating, albeit expensive, bit of technology. That said, it is a pain in the butt to clean - every time, if you have the model for pets. Cat hair will clog it in one small room. On the plus side, it gets under the bed, where there could be more pet hair than I care to admit. Can two short haired cats shed faster than Roomba can clean? Will my patience wear out, before my picks, and tweezers and screwdriver? Stay tuned...                                                                                                                                                                                                                                                                                                                                                                                                                                                                                                                                                                                                                \n",
       "5 Years ago I bought one of the original Roomba's and was underwhelmed - it was slow and got stuck in corners.  But I'm lazy at heart, so decided to try again - and this model is amazing!!  First - no problem in corners - it spins and backs out.  (It also has a spinning brush on the side which whisks all those dust devils out of the corner into the vacuum).  Also, it goes easily from carpet to hardwood floor to doormat and back.  If it encounters a cord on the floor, it backs up and comes back in from another angle.  And I know it's weird to think about - how the heck does it figure out your floor plan, especially when it seems to go in random directions?  It all gets down to math, my friends, and the engineers at Roomba worked it out.  We use it for individual rooms (like our muddy utility room), and for entire house runs.  It's great if you have a dog (you wouldn't believe how much dog hair is under your couch).  Easy to clean, easy to set up and definately easy to use.  (You push a button and walk away!)  Great buy.\n",
       "6 Wow.Wow.  I never knew my floors were so dirty before this!  I've set my \"Room by\" to clean every day.  I am astounded each day when I empty the bin.  Where did all this come from??  I have 3 small dogs and can't believe I've spent years living in what I would now consider gross based on what I dump out each day.  I haven't had to vacuum in weeks!  I am going to get this for my 70+ parents. Best invention ever!!!                                                                                                                                                                                                                                                                                                                                                                                                                                                                                                                                                                                                                                        "
      ]
     },
     "metadata": {},
     "output_type": "display_data"
    }
   ],
   "source": [
    "review_data <- read_csv(\"Roomba Reviews.csv\")\n",
    "head(review_data)"
   ]
  },
  {
   "cell_type": "markdown",
   "metadata": {},
   "source": [
    "### Exploration"
   ]
  },
  {
   "cell_type": "code",
   "execution_count": 3,
   "metadata": {},
   "outputs": [
    {
     "data": {
      "text/html": [
       "<table>\n",
       "<thead><tr><th scope=col>stars_mean</th></tr></thead>\n",
       "<tbody>\n",
       "\t<tr><td>4.488152</td></tr>\n",
       "</tbody>\n",
       "</table>\n"
      ],
      "text/latex": [
       "\\begin{tabular}{r|l}\n",
       " stars\\_mean\\\\\n",
       "\\hline\n",
       "\t 4.488152\\\\\n",
       "\\end{tabular}\n"
      ],
      "text/markdown": [
       "\n",
       "| stars_mean |\n",
       "|---|\n",
       "| 4.488152 |\n",
       "\n"
      ],
      "text/plain": [
       "  stars_mean\n",
       "1 4.488152  "
      ]
     },
     "metadata": {},
     "output_type": "display_data"
    }
   ],
   "source": [
    "# mean star rating of iRobot Roomba 650 for Pets\n",
    "review_data %>%\n",
    "  filter(Product == \"iRobot Roomba 650 for Pets\") %>%\n",
    "  summarize(stars_mean = mean(Stars))"
   ]
  },
  {
   "cell_type": "code",
   "execution_count": 4,
   "metadata": {},
   "outputs": [
    {
     "data": {
      "text/html": [
       "<table>\n",
       "<thead><tr><th scope=col>Product</th><th scope=col>stars_mean</th></tr></thead>\n",
       "<tbody>\n",
       "\t<tr><td>iRobot Roomba 650 for Pets              </td><td>4.488152                                </td></tr>\n",
       "\t<tr><td>iRobot Roomba 880 for Pets and Allergies</td><td>4.423333                                </td></tr>\n",
       "</tbody>\n",
       "</table>\n"
      ],
      "text/latex": [
       "\\begin{tabular}{r|ll}\n",
       " Product & stars\\_mean\\\\\n",
       "\\hline\n",
       "\t iRobot Roomba 650 for Pets               & 4.488152                                \\\\\n",
       "\t iRobot Roomba 880 for Pets and Allergies & 4.423333                                \\\\\n",
       "\\end{tabular}\n"
      ],
      "text/markdown": [
       "\n",
       "| Product | stars_mean |\n",
       "|---|---|\n",
       "| iRobot Roomba 650 for Pets               | 4.488152                                 |\n",
       "| iRobot Roomba 880 for Pets and Allergies | 4.423333                                 |\n",
       "\n"
      ],
      "text/plain": [
       "  Product                                  stars_mean\n",
       "1 iRobot Roomba 650 for Pets               4.488152  \n",
       "2 iRobot Roomba 880 for Pets and Allergies 4.423333  "
      ]
     },
     "metadata": {},
     "output_type": "display_data"
    }
   ],
   "source": [
    "#average star rating by product name\n",
    "review_data %>%\n",
    "  group_by(Product) %>%\n",
    "  summarize(stars_mean = mean(Stars))"
   ]
  },
  {
   "cell_type": "code",
   "execution_count": 5,
   "metadata": {},
   "outputs": [
    {
     "data": {
      "text/html": [
       "<table>\n",
       "<thead><tr><th scope=col>number_rows</th></tr></thead>\n",
       "<tbody>\n",
       "\t<tr><td>1833</td></tr>\n",
       "</tbody>\n",
       "</table>\n"
      ],
      "text/latex": [
       "\\begin{tabular}{r|l}\n",
       " number\\_rows\\\\\n",
       "\\hline\n",
       "\t 1833\\\\\n",
       "\\end{tabular}\n"
      ],
      "text/markdown": [
       "\n",
       "| number_rows |\n",
       "|---|\n",
       "| 1833 |\n",
       "\n"
      ],
      "text/plain": [
       "  number_rows\n",
       "1 1833       "
      ]
     },
     "metadata": {},
     "output_type": "display_data"
    }
   ],
   "source": [
    "#Count number of rows\n",
    "review_data %>%\n",
    "  summarize(number_rows= n())"
   ]
  },
  {
   "cell_type": "code",
   "execution_count": 6,
   "metadata": {},
   "outputs": [
    {
     "data": {
      "text/html": [
       "<table>\n",
       "<thead><tr><th scope=col>Product</th><th scope=col>n</th></tr></thead>\n",
       "<tbody>\n",
       "\t<tr><td>iRobot Roomba 880 for Pets and Allergies</td><td>1200                                    </td></tr>\n",
       "\t<tr><td>iRobot Roomba 650 for Pets              </td><td> 633                                    </td></tr>\n",
       "</tbody>\n",
       "</table>\n"
      ],
      "text/latex": [
       "\\begin{tabular}{r|ll}\n",
       " Product & n\\\\\n",
       "\\hline\n",
       "\t iRobot Roomba 880 for Pets and Allergies & 1200                                    \\\\\n",
       "\t iRobot Roomba 650 for Pets               &  633                                    \\\\\n",
       "\\end{tabular}\n"
      ],
      "text/markdown": [
       "\n",
       "| Product | n |\n",
       "|---|---|\n",
       "| iRobot Roomba 880 for Pets and Allergies | 1200                                     |\n",
       "| iRobot Roomba 650 for Pets               |  633                                     |\n",
       "\n"
      ],
      "text/plain": [
       "  Product                                  n   \n",
       "1 iRobot Roomba 880 for Pets and Allergies 1200\n",
       "2 iRobot Roomba 650 for Pets                633"
      ]
     },
     "metadata": {},
     "output_type": "display_data"
    }
   ],
   "source": [
    "#Count for product\n",
    "review_data %>%\n",
    "  count(Product) %>%\n",
    "  arrange(desc(n))"
   ]
  },
  {
   "cell_type": "markdown",
   "metadata": {},
   "source": [
    "### Tokenizing"
   ]
  },
  {
   "cell_type": "code",
   "execution_count": 7,
   "metadata": {},
   "outputs": [
    {
     "data": {
      "text/html": [
       "<table>\n",
       "<thead><tr><th scope=col>Date</th><th scope=col>Product</th><th scope=col>Stars</th><th scope=col>Title</th><th scope=col>word</th></tr></thead>\n",
       "<tbody>\n",
       "\t<tr><td>2/28/15                   </td><td>iRobot Roomba 650 for Pets</td><td>5                         </td><td>Five Stars                </td><td>you                       </td></tr>\n",
       "\t<tr><td>2/28/15                   </td><td>iRobot Roomba 650 for Pets</td><td>5                         </td><td>Five Stars                </td><td>would                     </td></tr>\n",
       "\t<tr><td>2/28/15                   </td><td>iRobot Roomba 650 for Pets</td><td>5                         </td><td>Five Stars                </td><td>not                       </td></tr>\n",
       "\t<tr><td>2/28/15                   </td><td>iRobot Roomba 650 for Pets</td><td>5                         </td><td>Five Stars                </td><td>believe                   </td></tr>\n",
       "\t<tr><td>2/28/15                   </td><td>iRobot Roomba 650 for Pets</td><td>5                         </td><td>Five Stars                </td><td>how                       </td></tr>\n",
       "\t<tr><td>2/28/15                   </td><td>iRobot Roomba 650 for Pets</td><td>5                         </td><td>Five Stars                </td><td>well                      </td></tr>\n",
       "</tbody>\n",
       "</table>\n"
      ],
      "text/latex": [
       "\\begin{tabular}{r|lllll}\n",
       " Date & Product & Stars & Title & word\\\\\n",
       "\\hline\n",
       "\t 2/28/15                    & iRobot Roomba 650 for Pets & 5                          & Five Stars                 & you                       \\\\\n",
       "\t 2/28/15                    & iRobot Roomba 650 for Pets & 5                          & Five Stars                 & would                     \\\\\n",
       "\t 2/28/15                    & iRobot Roomba 650 for Pets & 5                          & Five Stars                 & not                       \\\\\n",
       "\t 2/28/15                    & iRobot Roomba 650 for Pets & 5                          & Five Stars                 & believe                   \\\\\n",
       "\t 2/28/15                    & iRobot Roomba 650 for Pets & 5                          & Five Stars                 & how                       \\\\\n",
       "\t 2/28/15                    & iRobot Roomba 650 for Pets & 5                          & Five Stars                 & well                      \\\\\n",
       "\\end{tabular}\n"
      ],
      "text/markdown": [
       "\n",
       "| Date | Product | Stars | Title | word |\n",
       "|---|---|---|---|---|\n",
       "| 2/28/15                    | iRobot Roomba 650 for Pets | 5                          | Five Stars                 | you                        |\n",
       "| 2/28/15                    | iRobot Roomba 650 for Pets | 5                          | Five Stars                 | would                      |\n",
       "| 2/28/15                    | iRobot Roomba 650 for Pets | 5                          | Five Stars                 | not                        |\n",
       "| 2/28/15                    | iRobot Roomba 650 for Pets | 5                          | Five Stars                 | believe                    |\n",
       "| 2/28/15                    | iRobot Roomba 650 for Pets | 5                          | Five Stars                 | how                        |\n",
       "| 2/28/15                    | iRobot Roomba 650 for Pets | 5                          | Five Stars                 | well                       |\n",
       "\n"
      ],
      "text/plain": [
       "  Date    Product                    Stars Title      word   \n",
       "1 2/28/15 iRobot Roomba 650 for Pets 5     Five Stars you    \n",
       "2 2/28/15 iRobot Roomba 650 for Pets 5     Five Stars would  \n",
       "3 2/28/15 iRobot Roomba 650 for Pets 5     Five Stars not    \n",
       "4 2/28/15 iRobot Roomba 650 for Pets 5     Five Stars believe\n",
       "5 2/28/15 iRobot Roomba 650 for Pets 5     Five Stars how    \n",
       "6 2/28/15 iRobot Roomba 650 for Pets 5     Five Stars well   "
      ]
     },
     "metadata": {},
     "output_type": "display_data"
    }
   ],
   "source": [
    "#tokenize words into individual rows\n",
    "tidy_review <- review_data %>%\n",
    "  unnest_tokens(word, Review)\n",
    "head(tidy_review)"
   ]
  },
  {
   "cell_type": "markdown",
   "metadata": {},
   "source": [
    "We now have each word in a single word per row. Total number of rows have significantly increased. Whitespace is also removed."
   ]
  },
  {
   "cell_type": "code",
   "execution_count": 8,
   "metadata": {},
   "outputs": [
    {
     "data": {
      "text/html": [
       "<table>\n",
       "<thead><tr><th scope=col>word</th><th scope=col>n</th></tr></thead>\n",
       "<tbody>\n",
       "\t<tr><td>the   </td><td>11785 </td></tr>\n",
       "\t<tr><td>it    </td><td> 7905 </td></tr>\n",
       "\t<tr><td>and   </td><td> 6794 </td></tr>\n",
       "\t<tr><td>to    </td><td> 6440 </td></tr>\n",
       "\t<tr><td>i     </td><td> 6034 </td></tr>\n",
       "\t<tr><td>a     </td><td> 5884 </td></tr>\n",
       "\t<tr><td>is    </td><td> 3347 </td></tr>\n",
       "\t<tr><td>of    </td><td> 3229 </td></tr>\n",
       "\t<tr><td>have  </td><td> 2470 </td></tr>\n",
       "\t<tr><td>that  </td><td> 2410 </td></tr>\n",
       "\t<tr><td>roomba</td><td> 2286 </td></tr>\n",
       "\t<tr><td>this  </td><td> 2253 </td></tr>\n",
       "\t<tr><td>in    </td><td> 2249 </td></tr>\n",
       "\t<tr><td>my    </td><td> 2025 </td></tr>\n",
       "\t<tr><td>for   </td><td> 1940 </td></tr>\n",
       "\t<tr><td>on    </td><td> 1855 </td></tr>\n",
       "\t<tr><td>but   </td><td> 1733 </td></tr>\n",
       "\t<tr><td>with  </td><td> 1686 </td></tr>\n",
       "\t<tr><td>we    </td><td> 1555 </td></tr>\n",
       "\t<tr><td>up    </td><td> 1502 </td></tr>\n",
       "\t<tr><td>you   </td><td> 1465 </td></tr>\n",
       "\t<tr><td>not   </td><td> 1439 </td></tr>\n",
       "\t<tr><td>so    </td><td> 1339 </td></tr>\n",
       "\t<tr><td>clean </td><td> 1204 </td></tr>\n",
       "\t<tr><td>was   </td><td> 1194 </td></tr>\n",
       "\t<tr><td>as    </td><td> 1114 </td></tr>\n",
       "\t<tr><td>vacuum</td><td>  989 </td></tr>\n",
       "\t<tr><td>one   </td><td>  916 </td></tr>\n",
       "\t<tr><td>hair  </td><td>  900 </td></tr>\n",
       "\t<tr><td>be    </td><td>  887 </td></tr>\n",
       "\t<tr><td>...</td><td>...</td></tr>\n",
       "\t<tr><td>yippee                  </td><td>1                       </td></tr>\n",
       "\t<tr><td>yo                      </td><td>1                       </td></tr>\n",
       "\t<tr><td>yorkie                  </td><td>1                       </td></tr>\n",
       "\t<tr><td>you.c                   </td><td>1                       </td></tr>\n",
       "\t<tr><td>you.controls            </td><td>1                       </td></tr>\n",
       "\t<tr><td>you.dislikes:inefficient</td><td>1                       </td></tr>\n",
       "\t<tr><td>you.tediousness         </td><td>1                       </td></tr>\n",
       "\t<tr><td>you.what                </td><td>1                       </td></tr>\n",
       "\t<tr><td>you.words               </td><td>1                       </td></tr>\n",
       "\t<tr><td>youll                   </td><td>1                       </td></tr>\n",
       "\t<tr><td>younger                 </td><td>1                       </td></tr>\n",
       "\t<tr><td>yours                   </td><td>1                       </td></tr>\n",
       "\t<tr><td>yourself.i              </td><td>1                       </td></tr>\n",
       "\t<tr><td>yourself.now            </td><td>1                       </td></tr>\n",
       "\t<tr><td>yrs                     </td><td>1                       </td></tr>\n",
       "\t<tr><td>yuckies.you             </td><td>1                       </td></tr>\n",
       "\t<tr><td>yucky                   </td><td>1                       </td></tr>\n",
       "\t<tr><td>z                       </td><td>1                       </td></tr>\n",
       "\t<tr><td>zagging                 </td><td>1                       </td></tr>\n",
       "\t<tr><td>zags                    </td><td>1                       </td></tr>\n",
       "\t<tr><td>zeal                    </td><td>1                       </td></tr>\n",
       "\t<tr><td>zealand                 </td><td>1                       </td></tr>\n",
       "\t<tr><td>zigbee                  </td><td>1                       </td></tr>\n",
       "\t<tr><td>zip                     </td><td>1                       </td></tr>\n",
       "\t<tr><td>zipping                 </td><td>1                       </td></tr>\n",
       "\t<tr><td>zombie                  </td><td>1                       </td></tr>\n",
       "\t<tr><td>zooms                   </td><td>1                       </td></tr>\n",
       "\t<tr><td>zumba                   </td><td>1                       </td></tr>\n",
       "\t<tr><td>zyrtec                  </td><td>1                       </td></tr>\n",
       "\t<tr><td>NA                      </td><td>1                       </td></tr>\n",
       "</tbody>\n",
       "</table>\n"
      ],
      "text/latex": [
       "\\begin{tabular}{r|ll}\n",
       " word & n\\\\\n",
       "\\hline\n",
       "\t the    & 11785 \\\\\n",
       "\t it     &  7905 \\\\\n",
       "\t and    &  6794 \\\\\n",
       "\t to     &  6440 \\\\\n",
       "\t i      &  6034 \\\\\n",
       "\t a      &  5884 \\\\\n",
       "\t is     &  3347 \\\\\n",
       "\t of     &  3229 \\\\\n",
       "\t have   &  2470 \\\\\n",
       "\t that   &  2410 \\\\\n",
       "\t roomba &  2286 \\\\\n",
       "\t this   &  2253 \\\\\n",
       "\t in     &  2249 \\\\\n",
       "\t my     &  2025 \\\\\n",
       "\t for    &  1940 \\\\\n",
       "\t on     &  1855 \\\\\n",
       "\t but    &  1733 \\\\\n",
       "\t with   &  1686 \\\\\n",
       "\t we     &  1555 \\\\\n",
       "\t up     &  1502 \\\\\n",
       "\t you    &  1465 \\\\\n",
       "\t not    &  1439 \\\\\n",
       "\t so     &  1339 \\\\\n",
       "\t clean  &  1204 \\\\\n",
       "\t was    &  1194 \\\\\n",
       "\t as     &  1114 \\\\\n",
       "\t vacuum &   989 \\\\\n",
       "\t one    &   916 \\\\\n",
       "\t hair   &   900 \\\\\n",
       "\t be     &   887 \\\\\n",
       "\t ... & ...\\\\\n",
       "\t yippee                   & 1                       \\\\\n",
       "\t yo                       & 1                       \\\\\n",
       "\t yorkie                   & 1                       \\\\\n",
       "\t you.c                    & 1                       \\\\\n",
       "\t you.controls             & 1                       \\\\\n",
       "\t you.dislikes:inefficient & 1                       \\\\\n",
       "\t you.tediousness          & 1                       \\\\\n",
       "\t you.what                 & 1                       \\\\\n",
       "\t you.words                & 1                       \\\\\n",
       "\t youll                    & 1                       \\\\\n",
       "\t younger                  & 1                       \\\\\n",
       "\t yours                    & 1                       \\\\\n",
       "\t yourself.i               & 1                       \\\\\n",
       "\t yourself.now             & 1                       \\\\\n",
       "\t yrs                      & 1                       \\\\\n",
       "\t yuckies.you              & 1                       \\\\\n",
       "\t yucky                    & 1                       \\\\\n",
       "\t z                        & 1                       \\\\\n",
       "\t zagging                  & 1                       \\\\\n",
       "\t zags                     & 1                       \\\\\n",
       "\t zeal                     & 1                       \\\\\n",
       "\t zealand                  & 1                       \\\\\n",
       "\t zigbee                   & 1                       \\\\\n",
       "\t zip                      & 1                       \\\\\n",
       "\t zipping                  & 1                       \\\\\n",
       "\t zombie                   & 1                       \\\\\n",
       "\t zooms                    & 1                       \\\\\n",
       "\t zumba                    & 1                       \\\\\n",
       "\t zyrtec                   & 1                       \\\\\n",
       "\t NA                       & 1                       \\\\\n",
       "\\end{tabular}\n"
      ],
      "text/markdown": [
       "\n",
       "| word | n |\n",
       "|---|---|\n",
       "| the    | 11785  |\n",
       "| it     |  7905  |\n",
       "| and    |  6794  |\n",
       "| to     |  6440  |\n",
       "| i      |  6034  |\n",
       "| a      |  5884  |\n",
       "| is     |  3347  |\n",
       "| of     |  3229  |\n",
       "| have   |  2470  |\n",
       "| that   |  2410  |\n",
       "| roomba |  2286  |\n",
       "| this   |  2253  |\n",
       "| in     |  2249  |\n",
       "| my     |  2025  |\n",
       "| for    |  1940  |\n",
       "| on     |  1855  |\n",
       "| but    |  1733  |\n",
       "| with   |  1686  |\n",
       "| we     |  1555  |\n",
       "| up     |  1502  |\n",
       "| you    |  1465  |\n",
       "| not    |  1439  |\n",
       "| so     |  1339  |\n",
       "| clean  |  1204  |\n",
       "| was    |  1194  |\n",
       "| as     |  1114  |\n",
       "| vacuum |   989  |\n",
       "| one    |   916  |\n",
       "| hair   |   900  |\n",
       "| be     |   887  |\n",
       "| ... | ... |\n",
       "| yippee                   | 1                        |\n",
       "| yo                       | 1                        |\n",
       "| yorkie                   | 1                        |\n",
       "| you.c                    | 1                        |\n",
       "| you.controls             | 1                        |\n",
       "| you.dislikes:inefficient | 1                        |\n",
       "| you.tediousness          | 1                        |\n",
       "| you.what                 | 1                        |\n",
       "| you.words                | 1                        |\n",
       "| youll                    | 1                        |\n",
       "| younger                  | 1                        |\n",
       "| yours                    | 1                        |\n",
       "| yourself.i               | 1                        |\n",
       "| yourself.now             | 1                        |\n",
       "| yrs                      | 1                        |\n",
       "| yuckies.you              | 1                        |\n",
       "| yucky                    | 1                        |\n",
       "| z                        | 1                        |\n",
       "| zagging                  | 1                        |\n",
       "| zags                     | 1                        |\n",
       "| zeal                     | 1                        |\n",
       "| zealand                  | 1                        |\n",
       "| zigbee                   | 1                        |\n",
       "| zip                      | 1                        |\n",
       "| zipping                  | 1                        |\n",
       "| zombie                   | 1                        |\n",
       "| zooms                    | 1                        |\n",
       "| zumba                    | 1                        |\n",
       "| zyrtec                   | 1                        |\n",
       "| NA                       | 1                        |\n",
       "\n"
      ],
      "text/plain": [
       "      word                     n    \n",
       "1     the                      11785\n",
       "2     it                        7905\n",
       "3     and                       6794\n",
       "4     to                        6440\n",
       "5     i                         6034\n",
       "6     a                         5884\n",
       "7     is                        3347\n",
       "8     of                        3229\n",
       "9     have                      2470\n",
       "10    that                      2410\n",
       "11    roomba                    2286\n",
       "12    this                      2253\n",
       "13    in                        2249\n",
       "14    my                        2025\n",
       "15    for                       1940\n",
       "16    on                        1855\n",
       "17    but                       1733\n",
       "18    with                      1686\n",
       "19    we                        1555\n",
       "20    up                        1502\n",
       "21    you                       1465\n",
       "22    not                       1439\n",
       "23    so                        1339\n",
       "24    clean                     1204\n",
       "25    was                       1194\n",
       "26    as                        1114\n",
       "27    vacuum                     989\n",
       "28    one                        916\n",
       "29    hair                       900\n",
       "30    be                         887\n",
       "...   ...                      ...  \n",
       "10281 yippee                   1    \n",
       "10282 yo                       1    \n",
       "10283 yorkie                   1    \n",
       "10284 you.c                    1    \n",
       "10285 you.controls             1    \n",
       "10286 you.dislikes:inefficient 1    \n",
       "10287 you.tediousness          1    \n",
       "10288 you.what                 1    \n",
       "10289 you.words                1    \n",
       "10290 youll                    1    \n",
       "10291 younger                  1    \n",
       "10292 yours                    1    \n",
       "10293 yourself.i               1    \n",
       "10294 yourself.now             1    \n",
       "10295 yrs                      1    \n",
       "10296 yuckies.you              1    \n",
       "10297 yucky                    1    \n",
       "10298 z                        1    \n",
       "10299 zagging                  1    \n",
       "10300 zags                     1    \n",
       "10301 zeal                     1    \n",
       "10302 zealand                  1    \n",
       "10303 zigbee                   1    \n",
       "10304 zip                      1    \n",
       "10305 zipping                  1    \n",
       "10306 zombie                   1    \n",
       "10307 zooms                    1    \n",
       "10308 zumba                    1    \n",
       "10309 zyrtec                   1    \n",
       "10310 NA                       1    "
      ]
     },
     "metadata": {},
     "output_type": "display_data"
    },
    {
     "data": {
      "text/html": [
       "<table>\n",
       "<thead><tr><th scope=col>Date</th><th scope=col>Product</th><th scope=col>Stars</th><th scope=col>Title</th><th scope=col>word</th></tr></thead>\n",
       "<tbody>\n",
       "\t<tr><td>2/28/15                   </td><td>iRobot Roomba 650 for Pets</td><td>5                         </td><td>Five Stars                </td><td>you                       </td></tr>\n",
       "\t<tr><td>2/28/15                   </td><td>iRobot Roomba 650 for Pets</td><td>5                         </td><td>Five Stars                </td><td>would                     </td></tr>\n",
       "\t<tr><td>2/28/15                   </td><td>iRobot Roomba 650 for Pets</td><td>5                         </td><td>Five Stars                </td><td>not                       </td></tr>\n",
       "\t<tr><td>2/28/15                   </td><td>iRobot Roomba 650 for Pets</td><td>5                         </td><td>Five Stars                </td><td>believe                   </td></tr>\n",
       "\t<tr><td>2/28/15                   </td><td>iRobot Roomba 650 for Pets</td><td>5                         </td><td>Five Stars                </td><td>how                       </td></tr>\n",
       "\t<tr><td>2/28/15                   </td><td>iRobot Roomba 650 for Pets</td><td>5                         </td><td>Five Stars                </td><td>well                      </td></tr>\n",
       "</tbody>\n",
       "</table>\n"
      ],
      "text/latex": [
       "\\begin{tabular}{r|lllll}\n",
       " Date & Product & Stars & Title & word\\\\\n",
       "\\hline\n",
       "\t 2/28/15                    & iRobot Roomba 650 for Pets & 5                          & Five Stars                 & you                       \\\\\n",
       "\t 2/28/15                    & iRobot Roomba 650 for Pets & 5                          & Five Stars                 & would                     \\\\\n",
       "\t 2/28/15                    & iRobot Roomba 650 for Pets & 5                          & Five Stars                 & not                       \\\\\n",
       "\t 2/28/15                    & iRobot Roomba 650 for Pets & 5                          & Five Stars                 & believe                   \\\\\n",
       "\t 2/28/15                    & iRobot Roomba 650 for Pets & 5                          & Five Stars                 & how                       \\\\\n",
       "\t 2/28/15                    & iRobot Roomba 650 for Pets & 5                          & Five Stars                 & well                      \\\\\n",
       "\\end{tabular}\n"
      ],
      "text/markdown": [
       "\n",
       "| Date | Product | Stars | Title | word |\n",
       "|---|---|---|---|---|\n",
       "| 2/28/15                    | iRobot Roomba 650 for Pets | 5                          | Five Stars                 | you                        |\n",
       "| 2/28/15                    | iRobot Roomba 650 for Pets | 5                          | Five Stars                 | would                      |\n",
       "| 2/28/15                    | iRobot Roomba 650 for Pets | 5                          | Five Stars                 | not                        |\n",
       "| 2/28/15                    | iRobot Roomba 650 for Pets | 5                          | Five Stars                 | believe                    |\n",
       "| 2/28/15                    | iRobot Roomba 650 for Pets | 5                          | Five Stars                 | how                        |\n",
       "| 2/28/15                    | iRobot Roomba 650 for Pets | 5                          | Five Stars                 | well                       |\n",
       "\n"
      ],
      "text/plain": [
       "  Date    Product                    Stars Title      word   \n",
       "1 2/28/15 iRobot Roomba 650 for Pets 5     Five Stars you    \n",
       "2 2/28/15 iRobot Roomba 650 for Pets 5     Five Stars would  \n",
       "3 2/28/15 iRobot Roomba 650 for Pets 5     Five Stars not    \n",
       "4 2/28/15 iRobot Roomba 650 for Pets 5     Five Stars believe\n",
       "5 2/28/15 iRobot Roomba 650 for Pets 5     Five Stars how    \n",
       "6 2/28/15 iRobot Roomba 650 for Pets 5     Five Stars well   "
      ]
     },
     "metadata": {},
     "output_type": "display_data"
    }
   ],
   "source": [
    "# Count words\n",
    "tidy_review %>%\n",
    "  count(word) %>%\n",
    "  arrange(desc(n))\n",
    "\n",
    "head(tidy_review)"
   ]
  },
  {
   "cell_type": "markdown",
   "metadata": {},
   "source": [
    "The most common words are stop words and are not useful for a analysis.\n",
    "\n",
    "#### Anti join"
   ]
  },
  {
   "cell_type": "code",
   "execution_count": 9,
   "metadata": {},
   "outputs": [
    {
     "name": "stderr",
     "output_type": "stream",
     "text": [
      "Joining, by = \"word\""
     ]
    },
    {
     "data": {
      "text/html": [
       "<table>\n",
       "<thead><tr><th scope=col>Date</th><th scope=col>Product</th><th scope=col>Stars</th><th scope=col>Title</th><th scope=col>word</th></tr></thead>\n",
       "<tbody>\n",
       "\t<tr><td>1/12/15                   </td><td>iRobot Roomba 650 for Pets</td><td>4                         </td><td>Four Stars                </td><td>walk                      </td></tr>\n",
       "\t<tr><td>1/12/15                   </td><td>iRobot Roomba 650 for Pets</td><td>4                         </td><td>Four Stars                </td><td>rest                      </td></tr>\n",
       "\t<tr><td>12/26/13                  </td><td>iRobot Roomba 650 for Pets</td><td>5                         </td><td>Awesome love it.          </td><td>roomba                    </td></tr>\n",
       "\t<tr><td>12/26/13                  </td><td>iRobot Roomba 650 for Pets</td><td>5                         </td><td>Awesome love it.          </td><td>proof                     </td></tr>\n",
       "\t<tr><td>12/26/13                  </td><td>iRobot Roomba 650 for Pets</td><td>5                         </td><td>Awesome love it.          </td><td>house                     </td></tr>\n",
       "\t<tr><td>12/26/13                  </td><td>iRobot Roomba 650 for Pets</td><td>5                         </td><td>Awesome love it.          </td><td>awesome                   </td></tr>\n",
       "</tbody>\n",
       "</table>\n"
      ],
      "text/latex": [
       "\\begin{tabular}{r|lllll}\n",
       " Date & Product & Stars & Title & word\\\\\n",
       "\\hline\n",
       "\t 1/12/15                    & iRobot Roomba 650 for Pets & 4                          & Four Stars                 & walk                      \\\\\n",
       "\t 1/12/15                    & iRobot Roomba 650 for Pets & 4                          & Four Stars                 & rest                      \\\\\n",
       "\t 12/26/13                   & iRobot Roomba 650 for Pets & 5                          & Awesome love it.           & roomba                    \\\\\n",
       "\t 12/26/13                   & iRobot Roomba 650 for Pets & 5                          & Awesome love it.           & proof                     \\\\\n",
       "\t 12/26/13                   & iRobot Roomba 650 for Pets & 5                          & Awesome love it.           & house                     \\\\\n",
       "\t 12/26/13                   & iRobot Roomba 650 for Pets & 5                          & Awesome love it.           & awesome                   \\\\\n",
       "\\end{tabular}\n"
      ],
      "text/markdown": [
       "\n",
       "| Date | Product | Stars | Title | word |\n",
       "|---|---|---|---|---|\n",
       "| 1/12/15                    | iRobot Roomba 650 for Pets | 4                          | Four Stars                 | walk                       |\n",
       "| 1/12/15                    | iRobot Roomba 650 for Pets | 4                          | Four Stars                 | rest                       |\n",
       "| 12/26/13                   | iRobot Roomba 650 for Pets | 5                          | Awesome love it.           | roomba                     |\n",
       "| 12/26/13                   | iRobot Roomba 650 for Pets | 5                          | Awesome love it.           | proof                      |\n",
       "| 12/26/13                   | iRobot Roomba 650 for Pets | 5                          | Awesome love it.           | house                      |\n",
       "| 12/26/13                   | iRobot Roomba 650 for Pets | 5                          | Awesome love it.           | awesome                    |\n",
       "\n"
      ],
      "text/plain": [
       "  Date     Product                    Stars Title            word   \n",
       "1 1/12/15  iRobot Roomba 650 for Pets 4     Four Stars       walk   \n",
       "2 1/12/15  iRobot Roomba 650 for Pets 4     Four Stars       rest   \n",
       "3 12/26/13 iRobot Roomba 650 for Pets 5     Awesome love it. roomba \n",
       "4 12/26/13 iRobot Roomba 650 for Pets 5     Awesome love it. proof  \n",
       "5 12/26/13 iRobot Roomba 650 for Pets 5     Awesome love it. house  \n",
       "6 12/26/13 iRobot Roomba 650 for Pets 5     Awesome love it. awesome"
      ]
     },
     "metadata": {},
     "output_type": "display_data"
    }
   ],
   "source": [
    "# using anti join on reviews\n",
    "tidy_review2 <- review_data %>%\n",
    "  unnest_tokens(word, Review) %>%\n",
    "  anti_join(stop_words)\n",
    "\n",
    "head(tidy_review2)"
   ]
  },
  {
   "cell_type": "code",
   "execution_count": 10,
   "metadata": {},
   "outputs": [
    {
     "data": {
      "text/html": [
       "<table>\n",
       "<thead><tr><th scope=col>word</th><th scope=col>n</th></tr></thead>\n",
       "<tbody>\n",
       "\t<tr><td>roomba  </td><td>2286    </td></tr>\n",
       "\t<tr><td>clean   </td><td>1204    </td></tr>\n",
       "\t<tr><td>vacuum  </td><td> 989    </td></tr>\n",
       "\t<tr><td>hair    </td><td> 900    </td></tr>\n",
       "\t<tr><td>cleaning</td><td> 809    </td></tr>\n",
       "\t<tr><td>time    </td><td> 795    </td></tr>\n",
       "\t<tr><td>house   </td><td> 745    </td></tr>\n",
       "\t<tr><td>floors  </td><td> 657    </td></tr>\n",
       "\t<tr><td>day     </td><td> 578    </td></tr>\n",
       "\t<tr><td>floor   </td><td> 561    </td></tr>\n",
       "\t<tr><td>dust    </td><td> 543    </td></tr>\n",
       "\t<tr><td>job     </td><td> 538    </td></tr>\n",
       "\t<tr><td>love    </td><td> 532    </td></tr>\n",
       "\t<tr><td>880     </td><td> 525    </td></tr>\n",
       "\t<tr><td>run     </td><td> 466    </td></tr>\n",
       "\t<tr><td>home    </td><td> 455    </td></tr>\n",
       "\t<tr><td>bin     </td><td> 428    </td></tr>\n",
       "\t<tr><td>2       </td><td> 407    </td></tr>\n",
       "\t<tr><td>dog     </td><td> 407    </td></tr>\n",
       "\t<tr><td>dirt    </td><td> 384    </td></tr>\n",
       "\t<tr><td>carpet  </td><td> 368    </td></tr>\n",
       "\t<tr><td>robot   </td><td> 367    </td></tr>\n",
       "\t<tr><td>stuck   </td><td> 339    </td></tr>\n",
       "\t<tr><td>rugs    </td><td> 324    </td></tr>\n",
       "\t<tr><td>times   </td><td> 314    </td></tr>\n",
       "\t<tr><td>week    </td><td> 299    </td></tr>\n",
       "\t<tr><td>easy    </td><td> 297    </td></tr>\n",
       "\t<tr><td>3       </td><td> 284    </td></tr>\n",
       "\t<tr><td>pet     </td><td> 282    </td></tr>\n",
       "\t<tr><td>bought  </td><td> 259    </td></tr>\n",
       "\t<tr><td>...</td><td>...</td></tr>\n",
       "\t<tr><td>yet.we                  </td><td>1                       </td></tr>\n",
       "\t<tr><td>yet.when                </td><td>1                       </td></tr>\n",
       "\t<tr><td>yeup                    </td><td>1                       </td></tr>\n",
       "\t<tr><td>yippee                  </td><td>1                       </td></tr>\n",
       "\t<tr><td>yo                      </td><td>1                       </td></tr>\n",
       "\t<tr><td>yorkie                  </td><td>1                       </td></tr>\n",
       "\t<tr><td>you.c                   </td><td>1                       </td></tr>\n",
       "\t<tr><td>you.controls            </td><td>1                       </td></tr>\n",
       "\t<tr><td>you.dislikes:inefficient</td><td>1                       </td></tr>\n",
       "\t<tr><td>you.tediousness         </td><td>1                       </td></tr>\n",
       "\t<tr><td>you.what                </td><td>1                       </td></tr>\n",
       "\t<tr><td>you.words               </td><td>1                       </td></tr>\n",
       "\t<tr><td>youll                   </td><td>1                       </td></tr>\n",
       "\t<tr><td>yourself.i              </td><td>1                       </td></tr>\n",
       "\t<tr><td>yourself.now            </td><td>1                       </td></tr>\n",
       "\t<tr><td>yrs                     </td><td>1                       </td></tr>\n",
       "\t<tr><td>yuckies.you             </td><td>1                       </td></tr>\n",
       "\t<tr><td>yucky                   </td><td>1                       </td></tr>\n",
       "\t<tr><td>zagging                 </td><td>1                       </td></tr>\n",
       "\t<tr><td>zags                    </td><td>1                       </td></tr>\n",
       "\t<tr><td>zeal                    </td><td>1                       </td></tr>\n",
       "\t<tr><td>zealand                 </td><td>1                       </td></tr>\n",
       "\t<tr><td>zigbee                  </td><td>1                       </td></tr>\n",
       "\t<tr><td>zip                     </td><td>1                       </td></tr>\n",
       "\t<tr><td>zipping                 </td><td>1                       </td></tr>\n",
       "\t<tr><td>zombie                  </td><td>1                       </td></tr>\n",
       "\t<tr><td>zooms                   </td><td>1                       </td></tr>\n",
       "\t<tr><td>zumba                   </td><td>1                       </td></tr>\n",
       "\t<tr><td>zyrtec                  </td><td>1                       </td></tr>\n",
       "\t<tr><td>NA                      </td><td>1                       </td></tr>\n",
       "</tbody>\n",
       "</table>\n"
      ],
      "text/latex": [
       "\\begin{tabular}{r|ll}\n",
       " word & n\\\\\n",
       "\\hline\n",
       "\t roomba   & 2286    \\\\\n",
       "\t clean    & 1204    \\\\\n",
       "\t vacuum   &  989    \\\\\n",
       "\t hair     &  900    \\\\\n",
       "\t cleaning &  809    \\\\\n",
       "\t time     &  795    \\\\\n",
       "\t house    &  745    \\\\\n",
       "\t floors   &  657    \\\\\n",
       "\t day      &  578    \\\\\n",
       "\t floor    &  561    \\\\\n",
       "\t dust     &  543    \\\\\n",
       "\t job      &  538    \\\\\n",
       "\t love     &  532    \\\\\n",
       "\t 880      &  525    \\\\\n",
       "\t run      &  466    \\\\\n",
       "\t home     &  455    \\\\\n",
       "\t bin      &  428    \\\\\n",
       "\t 2        &  407    \\\\\n",
       "\t dog      &  407    \\\\\n",
       "\t dirt     &  384    \\\\\n",
       "\t carpet   &  368    \\\\\n",
       "\t robot    &  367    \\\\\n",
       "\t stuck    &  339    \\\\\n",
       "\t rugs     &  324    \\\\\n",
       "\t times    &  314    \\\\\n",
       "\t week     &  299    \\\\\n",
       "\t easy     &  297    \\\\\n",
       "\t 3        &  284    \\\\\n",
       "\t pet      &  282    \\\\\n",
       "\t bought   &  259    \\\\\n",
       "\t ... & ...\\\\\n",
       "\t yet.we                   & 1                       \\\\\n",
       "\t yet.when                 & 1                       \\\\\n",
       "\t yeup                     & 1                       \\\\\n",
       "\t yippee                   & 1                       \\\\\n",
       "\t yo                       & 1                       \\\\\n",
       "\t yorkie                   & 1                       \\\\\n",
       "\t you.c                    & 1                       \\\\\n",
       "\t you.controls             & 1                       \\\\\n",
       "\t you.dislikes:inefficient & 1                       \\\\\n",
       "\t you.tediousness          & 1                       \\\\\n",
       "\t you.what                 & 1                       \\\\\n",
       "\t you.words                & 1                       \\\\\n",
       "\t youll                    & 1                       \\\\\n",
       "\t yourself.i               & 1                       \\\\\n",
       "\t yourself.now             & 1                       \\\\\n",
       "\t yrs                      & 1                       \\\\\n",
       "\t yuckies.you              & 1                       \\\\\n",
       "\t yucky                    & 1                       \\\\\n",
       "\t zagging                  & 1                       \\\\\n",
       "\t zags                     & 1                       \\\\\n",
       "\t zeal                     & 1                       \\\\\n",
       "\t zealand                  & 1                       \\\\\n",
       "\t zigbee                   & 1                       \\\\\n",
       "\t zip                      & 1                       \\\\\n",
       "\t zipping                  & 1                       \\\\\n",
       "\t zombie                   & 1                       \\\\\n",
       "\t zooms                    & 1                       \\\\\n",
       "\t zumba                    & 1                       \\\\\n",
       "\t zyrtec                   & 1                       \\\\\n",
       "\t NA                       & 1                       \\\\\n",
       "\\end{tabular}\n"
      ],
      "text/markdown": [
       "\n",
       "| word | n |\n",
       "|---|---|\n",
       "| roomba   | 2286     |\n",
       "| clean    | 1204     |\n",
       "| vacuum   |  989     |\n",
       "| hair     |  900     |\n",
       "| cleaning |  809     |\n",
       "| time     |  795     |\n",
       "| house    |  745     |\n",
       "| floors   |  657     |\n",
       "| day      |  578     |\n",
       "| floor    |  561     |\n",
       "| dust     |  543     |\n",
       "| job      |  538     |\n",
       "| love     |  532     |\n",
       "| 880      |  525     |\n",
       "| run      |  466     |\n",
       "| home     |  455     |\n",
       "| bin      |  428     |\n",
       "| 2        |  407     |\n",
       "| dog      |  407     |\n",
       "| dirt     |  384     |\n",
       "| carpet   |  368     |\n",
       "| robot    |  367     |\n",
       "| stuck    |  339     |\n",
       "| rugs     |  324     |\n",
       "| times    |  314     |\n",
       "| week     |  299     |\n",
       "| easy     |  297     |\n",
       "| 3        |  284     |\n",
       "| pet      |  282     |\n",
       "| bought   |  259     |\n",
       "| ... | ... |\n",
       "| yet.we                   | 1                        |\n",
       "| yet.when                 | 1                        |\n",
       "| yeup                     | 1                        |\n",
       "| yippee                   | 1                        |\n",
       "| yo                       | 1                        |\n",
       "| yorkie                   | 1                        |\n",
       "| you.c                    | 1                        |\n",
       "| you.controls             | 1                        |\n",
       "| you.dislikes:inefficient | 1                        |\n",
       "| you.tediousness          | 1                        |\n",
       "| you.what                 | 1                        |\n",
       "| you.words                | 1                        |\n",
       "| youll                    | 1                        |\n",
       "| yourself.i               | 1                        |\n",
       "| yourself.now             | 1                        |\n",
       "| yrs                      | 1                        |\n",
       "| yuckies.you              | 1                        |\n",
       "| yucky                    | 1                        |\n",
       "| zagging                  | 1                        |\n",
       "| zags                     | 1                        |\n",
       "| zeal                     | 1                        |\n",
       "| zealand                  | 1                        |\n",
       "| zigbee                   | 1                        |\n",
       "| zip                      | 1                        |\n",
       "| zipping                  | 1                        |\n",
       "| zombie                   | 1                        |\n",
       "| zooms                    | 1                        |\n",
       "| zumba                    | 1                        |\n",
       "| zyrtec                   | 1                        |\n",
       "| NA                       | 1                        |\n",
       "\n"
      ],
      "text/plain": [
       "     word                     n   \n",
       "1    roomba                   2286\n",
       "2    clean                    1204\n",
       "3    vacuum                    989\n",
       "4    hair                      900\n",
       "5    cleaning                  809\n",
       "6    time                      795\n",
       "7    house                     745\n",
       "8    floors                    657\n",
       "9    day                       578\n",
       "10   floor                     561\n",
       "11   dust                      543\n",
       "12   job                       538\n",
       "13   love                      532\n",
       "14   880                       525\n",
       "15   run                       466\n",
       "16   home                      455\n",
       "17   bin                       428\n",
       "18   2                         407\n",
       "19   dog                       407\n",
       "20   dirt                      384\n",
       "21   carpet                    368\n",
       "22   robot                     367\n",
       "23   stuck                     339\n",
       "24   rugs                      324\n",
       "25   times                     314\n",
       "26   week                      299\n",
       "27   easy                      297\n",
       "28   3                         284\n",
       "29   pet                       282\n",
       "30   bought                    259\n",
       "...  ...                      ... \n",
       "9643 yet.we                   1   \n",
       "9644 yet.when                 1   \n",
       "9645 yeup                     1   \n",
       "9646 yippee                   1   \n",
       "9647 yo                       1   \n",
       "9648 yorkie                   1   \n",
       "9649 you.c                    1   \n",
       "9650 you.controls             1   \n",
       "9651 you.dislikes:inefficient 1   \n",
       "9652 you.tediousness          1   \n",
       "9653 you.what                 1   \n",
       "9654 you.words                1   \n",
       "9655 youll                    1   \n",
       "9656 yourself.i               1   \n",
       "9657 yourself.now             1   \n",
       "9658 yrs                      1   \n",
       "9659 yuckies.you              1   \n",
       "9660 yucky                    1   \n",
       "9661 zagging                  1   \n",
       "9662 zags                     1   \n",
       "9663 zeal                     1   \n",
       "9664 zealand                  1   \n",
       "9665 zigbee                   1   \n",
       "9666 zip                      1   \n",
       "9667 zipping                  1   \n",
       "9668 zombie                   1   \n",
       "9669 zooms                    1   \n",
       "9670 zumba                    1   \n",
       "9671 zyrtec                   1   \n",
       "9672 NA                       1   "
      ]
     },
     "metadata": {},
     "output_type": "display_data"
    },
    {
     "data": {
      "text/html": [
       "<table>\n",
       "<thead><tr><th scope=col>Date</th><th scope=col>Product</th><th scope=col>Stars</th><th scope=col>Title</th><th scope=col>word</th></tr></thead>\n",
       "<tbody>\n",
       "\t<tr><td>1/12/15                   </td><td>iRobot Roomba 650 for Pets</td><td>4                         </td><td>Four Stars                </td><td>walk                      </td></tr>\n",
       "\t<tr><td>1/12/15                   </td><td>iRobot Roomba 650 for Pets</td><td>4                         </td><td>Four Stars                </td><td>rest                      </td></tr>\n",
       "\t<tr><td>12/26/13                  </td><td>iRobot Roomba 650 for Pets</td><td>5                         </td><td>Awesome love it.          </td><td>roomba                    </td></tr>\n",
       "\t<tr><td>12/26/13                  </td><td>iRobot Roomba 650 for Pets</td><td>5                         </td><td>Awesome love it.          </td><td>proof                     </td></tr>\n",
       "\t<tr><td>12/26/13                  </td><td>iRobot Roomba 650 for Pets</td><td>5                         </td><td>Awesome love it.          </td><td>house                     </td></tr>\n",
       "\t<tr><td>12/26/13                  </td><td>iRobot Roomba 650 for Pets</td><td>5                         </td><td>Awesome love it.          </td><td>awesome                   </td></tr>\n",
       "</tbody>\n",
       "</table>\n"
      ],
      "text/latex": [
       "\\begin{tabular}{r|lllll}\n",
       " Date & Product & Stars & Title & word\\\\\n",
       "\\hline\n",
       "\t 1/12/15                    & iRobot Roomba 650 for Pets & 4                          & Four Stars                 & walk                      \\\\\n",
       "\t 1/12/15                    & iRobot Roomba 650 for Pets & 4                          & Four Stars                 & rest                      \\\\\n",
       "\t 12/26/13                   & iRobot Roomba 650 for Pets & 5                          & Awesome love it.           & roomba                    \\\\\n",
       "\t 12/26/13                   & iRobot Roomba 650 for Pets & 5                          & Awesome love it.           & proof                     \\\\\n",
       "\t 12/26/13                   & iRobot Roomba 650 for Pets & 5                          & Awesome love it.           & house                     \\\\\n",
       "\t 12/26/13                   & iRobot Roomba 650 for Pets & 5                          & Awesome love it.           & awesome                   \\\\\n",
       "\\end{tabular}\n"
      ],
      "text/markdown": [
       "\n",
       "| Date | Product | Stars | Title | word |\n",
       "|---|---|---|---|---|\n",
       "| 1/12/15                    | iRobot Roomba 650 for Pets | 4                          | Four Stars                 | walk                       |\n",
       "| 1/12/15                    | iRobot Roomba 650 for Pets | 4                          | Four Stars                 | rest                       |\n",
       "| 12/26/13                   | iRobot Roomba 650 for Pets | 5                          | Awesome love it.           | roomba                     |\n",
       "| 12/26/13                   | iRobot Roomba 650 for Pets | 5                          | Awesome love it.           | proof                      |\n",
       "| 12/26/13                   | iRobot Roomba 650 for Pets | 5                          | Awesome love it.           | house                      |\n",
       "| 12/26/13                   | iRobot Roomba 650 for Pets | 5                          | Awesome love it.           | awesome                    |\n",
       "\n"
      ],
      "text/plain": [
       "  Date     Product                    Stars Title            word   \n",
       "1 1/12/15  iRobot Roomba 650 for Pets 4     Four Stars       walk   \n",
       "2 1/12/15  iRobot Roomba 650 for Pets 4     Four Stars       rest   \n",
       "3 12/26/13 iRobot Roomba 650 for Pets 5     Awesome love it. roomba \n",
       "4 12/26/13 iRobot Roomba 650 for Pets 5     Awesome love it. proof  \n",
       "5 12/26/13 iRobot Roomba 650 for Pets 5     Awesome love it. house  \n",
       "6 12/26/13 iRobot Roomba 650 for Pets 5     Awesome love it. awesome"
      ]
     },
     "metadata": {},
     "output_type": "display_data"
    }
   ],
   "source": [
    "#sort in descending order\n",
    "tidy_review2 %>%\n",
    "    count(word) %>%\n",
    "    arrange(desc(n))\n",
    "\n",
    "head(tidy_review2)"
   ]
  },
  {
   "cell_type": "markdown",
   "metadata": {},
   "source": [
    "We can see that the main words used which were not stop words were roomba, clean, vacuum, hair, and cleaning."
   ]
  },
  {
   "cell_type": "markdown",
   "metadata": {},
   "source": [
    "### Sentiment dictionaries\n",
    "\n",
    "The 4 dictionaries avaible in R are:\n",
    "    \n",
    "    1. Bing - In the bing dictionary words are tagged with either positive or negative.    \n",
    "    2. Afinn -In Afinn dictionary words are tagged on a scale of -5 to 5.\n",
    "    3. loughran - \n",
    "    4. nrc - \n",
    "    \n",
    "#### Bing dictionary"
   ]
  },
  {
   "cell_type": "code",
   "execution_count": 11,
   "metadata": {},
   "outputs": [
    {
     "data": {
      "text/html": [
       "<table>\n",
       "<thead><tr><th scope=col>word</th><th scope=col>sentiment</th></tr></thead>\n",
       "<tbody>\n",
       "\t<tr><td>2-faces   </td><td>negative  </td></tr>\n",
       "\t<tr><td>abnormal  </td><td>negative  </td></tr>\n",
       "\t<tr><td>abolish   </td><td>negative  </td></tr>\n",
       "\t<tr><td>abominable</td><td>negative  </td></tr>\n",
       "\t<tr><td>abominably</td><td>negative  </td></tr>\n",
       "\t<tr><td>abominate </td><td>negative  </td></tr>\n",
       "</tbody>\n",
       "</table>\n"
      ],
      "text/latex": [
       "\\begin{tabular}{r|ll}\n",
       " word & sentiment\\\\\n",
       "\\hline\n",
       "\t 2-faces    & negative  \\\\\n",
       "\t abnormal   & negative  \\\\\n",
       "\t abolish    & negative  \\\\\n",
       "\t abominable & negative  \\\\\n",
       "\t abominably & negative  \\\\\n",
       "\t abominate  & negative  \\\\\n",
       "\\end{tabular}\n"
      ],
      "text/markdown": [
       "\n",
       "| word | sentiment |\n",
       "|---|---|\n",
       "| 2-faces    | negative   |\n",
       "| abnormal   | negative   |\n",
       "| abolish    | negative   |\n",
       "| abominable | negative   |\n",
       "| abominably | negative   |\n",
       "| abominate  | negative   |\n",
       "\n"
      ],
      "text/plain": [
       "  word       sentiment\n",
       "1 2-faces    negative \n",
       "2 abnormal   negative \n",
       "3 abolish    negative \n",
       "4 abominable negative \n",
       "5 abominably negative \n",
       "6 abominate  negative "
      ]
     },
     "metadata": {},
     "output_type": "display_data"
    }
   ],
   "source": [
    "#bing dictionary breakdown\n",
    "head(get_sentiments(\"bing\"))"
   ]
  },
  {
   "cell_type": "code",
   "execution_count": 12,
   "metadata": {},
   "outputs": [
    {
     "data": {
      "text/html": [
       "<table>\n",
       "<thead><tr><th scope=col>sentiment</th><th scope=col>n</th></tr></thead>\n",
       "<tbody>\n",
       "\t<tr><td>negative</td><td>4781    </td></tr>\n",
       "\t<tr><td>positive</td><td>2005    </td></tr>\n",
       "</tbody>\n",
       "</table>\n"
      ],
      "text/latex": [
       "\\begin{tabular}{r|ll}\n",
       " sentiment & n\\\\\n",
       "\\hline\n",
       "\t negative & 4781    \\\\\n",
       "\t positive & 2005    \\\\\n",
       "\\end{tabular}\n"
      ],
      "text/markdown": [
       "\n",
       "| sentiment | n |\n",
       "|---|---|\n",
       "| negative | 4781     |\n",
       "| positive | 2005     |\n",
       "\n"
      ],
      "text/plain": [
       "  sentiment n   \n",
       "1 negative  4781\n",
       "2 positive  2005"
      ]
     },
     "metadata": {},
     "output_type": "display_data"
    }
   ],
   "source": [
    "#count of sentiments in Bing dictionary\n",
    "sentiment_counts <- get_sentiments(\"bing\") %>%\n",
    "    count(sentiment)\n",
    "sentiment_counts"
   ]
  },
  {
   "cell_type": "code",
   "execution_count": 13,
   "metadata": {},
   "outputs": [
    {
     "data": {
      "image/png": "[encoded data removed]",
      "text/plain": [
       "plot without title"
      ]
     },
     "metadata": {},
     "output_type": "display_data"
    }
   ],
   "source": [
    "ggplot(sentiment_counts, aes(x = sentiment, y = n))+\n",
    "    geom_col()+\n",
    "    coord_flip() +\n",
    "    labs(\n",
    "        title = \"Sentiment Counts in Bing\",\n",
    "        x = \"Counts\",\n",
    "        y = \"Sentiment\")"
   ]
  },
  {
   "cell_type": "markdown",
   "metadata": {},
   "source": [
    "It is pretty clear that negative comments were signifcantly more than positive based on the bing dictionary."
   ]
  },
  {
   "cell_type": "markdown",
   "metadata": {},
   "source": [
    "#### Afinn"
   ]
  },
  {
   "cell_type": "code",
   "execution_count": 14,
   "metadata": {},
   "outputs": [
    {
     "data": {
      "text/html": [
       "<table>\n",
       "<thead><tr><th scope=col>word</th><th scope=col>value</th></tr></thead>\n",
       "<tbody>\n",
       "\t<tr><td>abandon   </td><td>-2        </td></tr>\n",
       "\t<tr><td>abandoned </td><td>-2        </td></tr>\n",
       "\t<tr><td>abandons  </td><td>-2        </td></tr>\n",
       "\t<tr><td>abducted  </td><td>-2        </td></tr>\n",
       "\t<tr><td>abduction </td><td>-2        </td></tr>\n",
       "\t<tr><td>abductions</td><td>-2        </td></tr>\n",
       "</tbody>\n",
       "</table>\n"
      ],
      "text/latex": [
       "\\begin{tabular}{r|ll}\n",
       " word & value\\\\\n",
       "\\hline\n",
       "\t abandon    & -2        \\\\\n",
       "\t abandoned  & -2        \\\\\n",
       "\t abandons   & -2        \\\\\n",
       "\t abducted   & -2        \\\\\n",
       "\t abduction  & -2        \\\\\n",
       "\t abductions & -2        \\\\\n",
       "\\end{tabular}\n"
      ],
      "text/markdown": [
       "\n",
       "| word | value |\n",
       "|---|---|\n",
       "| abandon    | -2         |\n",
       "| abandoned  | -2         |\n",
       "| abandons   | -2         |\n",
       "| abducted   | -2         |\n",
       "| abduction  | -2         |\n",
       "| abductions | -2         |\n",
       "\n"
      ],
      "text/plain": [
       "  word       value\n",
       "1 abandon    -2   \n",
       "2 abandoned  -2   \n",
       "3 abandons   -2   \n",
       "4 abducted   -2   \n",
       "5 abduction  -2   \n",
       "6 abductions -2   "
      ]
     },
     "metadata": {},
     "output_type": "display_data"
    }
   ],
   "source": [
    "head(get_sentiments(\"afinn\"))"
   ]
  },
  {
   "cell_type": "code",
   "execution_count": 15,
   "metadata": {},
   "outputs": [
    {
     "data": {
      "text/html": [
       "<table>\n",
       "<thead><tr><th scope=col>min</th><th scope=col>max</th></tr></thead>\n",
       "<tbody>\n",
       "\t<tr><td>-5</td><td>5 </td></tr>\n",
       "</tbody>\n",
       "</table>\n"
      ],
      "text/latex": [
       "\\begin{tabular}{r|ll}\n",
       " min & max\\\\\n",
       "\\hline\n",
       "\t -5 & 5 \\\\\n",
       "\\end{tabular}\n"
      ],
      "text/markdown": [
       "\n",
       "| min | max |\n",
       "|---|---|\n",
       "| -5 | 5  |\n",
       "\n"
      ],
      "text/plain": [
       "  min max\n",
       "1 -5  5  "
      ]
     },
     "metadata": {},
     "output_type": "display_data"
    }
   ],
   "source": [
    "#scale of sentiments in affin dictionary\n",
    "sentiment_counts <- get_sentiments(\"afinn\") %>%\n",
    "summarise(    \n",
    "    min = min(value),\n",
    "    max = max(value)\n",
    "    )\n",
    "sentiment_counts"
   ]
  },
  {
   "cell_type": "markdown",
   "metadata": {},
   "source": [
    "We can see for the afinn dictionary uses a scale of -5 to 5 to rate the sentiment."
   ]
  },
  {
   "cell_type": "markdown",
   "metadata": {},
   "source": [
    "#### Loughran"
   ]
  },
  {
   "cell_type": "code",
   "execution_count": 16,
   "metadata": {},
   "outputs": [
    {
     "data": {
      "text/html": [
       "<table>\n",
       "<thead><tr><th scope=col>word</th><th scope=col>sentiment</th></tr></thead>\n",
       "<tbody>\n",
       "\t<tr><td>abandon     </td><td>negative    </td></tr>\n",
       "\t<tr><td>abandoned   </td><td>negative    </td></tr>\n",
       "\t<tr><td>abandoning  </td><td>negative    </td></tr>\n",
       "\t<tr><td>abandonment </td><td>negative    </td></tr>\n",
       "\t<tr><td>abandonments</td><td>negative    </td></tr>\n",
       "\t<tr><td>abandons    </td><td>negative    </td></tr>\n",
       "</tbody>\n",
       "</table>\n"
      ],
      "text/latex": [
       "\\begin{tabular}{r|ll}\n",
       " word & sentiment\\\\\n",
       "\\hline\n",
       "\t abandon      & negative    \\\\\n",
       "\t abandoned    & negative    \\\\\n",
       "\t abandoning   & negative    \\\\\n",
       "\t abandonment  & negative    \\\\\n",
       "\t abandonments & negative    \\\\\n",
       "\t abandons     & negative    \\\\\n",
       "\\end{tabular}\n"
      ],
      "text/markdown": [
       "\n",
       "| word | sentiment |\n",
       "|---|---|\n",
       "| abandon      | negative     |\n",
       "| abandoned    | negative     |\n",
       "| abandoning   | negative     |\n",
       "| abandonment  | negative     |\n",
       "| abandonments | negative     |\n",
       "| abandons     | negative     |\n",
       "\n"
      ],
      "text/plain": [
       "  word         sentiment\n",
       "1 abandon      negative \n",
       "2 abandoned    negative \n",
       "3 abandoning   negative \n",
       "4 abandonment  negative \n",
       "5 abandonments negative \n",
       "6 abandons     negative "
      ]
     },
     "metadata": {},
     "output_type": "display_data"
    }
   ],
   "source": [
    "head(get_sentiments(\"loughran\"))"
   ]
  },
  {
   "cell_type": "code",
   "execution_count": 17,
   "metadata": {},
   "outputs": [
    {
     "data": {
      "image/png": "[encoded data removed]",
      "text/plain": [
       "plot without title"
      ]
     },
     "metadata": {},
     "output_type": "display_data"
    }
   ],
   "source": [
    "# plot loughran\n",
    "sentiment_counts <- get_sentiments(\"loughran\") %>%\n",
    "    count(sentiment) %>%\n",
    "    mutate(sentiment2 = fct_reorder( sentiment, n))\n",
    "\n",
    "ggplot(sentiment_counts, aes(x = sentiment2, y = n)) +\n",
    "    geom_col() +\n",
    "    coord_flip() +\n",
    "    labs(\n",
    "        title = \"Sentiment Counts in Loughran\",\n",
    "        x = \"Count\",\n",
    "        y = \"Sentiment\"\n",
    "    )"
   ]
  },
  {
   "cell_type": "markdown",
   "metadata": {},
   "source": [
    "We can see that there are significantly more negative reviews."
   ]
  },
  {
   "cell_type": "code",
   "execution_count": 18,
   "metadata": {},
   "outputs": [
    {
     "data": {
      "text/html": [
       "<table>\n",
       "<thead><tr><th scope=col>word</th><th scope=col>sentiment</th></tr></thead>\n",
       "<tbody>\n",
       "\t<tr><td>abacus   </td><td>trust    </td></tr>\n",
       "\t<tr><td>abandon  </td><td>fear     </td></tr>\n",
       "\t<tr><td>abandon  </td><td>negative </td></tr>\n",
       "\t<tr><td>abandon  </td><td>sadness  </td></tr>\n",
       "\t<tr><td>abandoned</td><td>anger    </td></tr>\n",
       "\t<tr><td>abandoned</td><td>fear     </td></tr>\n",
       "</tbody>\n",
       "</table>\n"
      ],
      "text/latex": [
       "\\begin{tabular}{r|ll}\n",
       " word & sentiment\\\\\n",
       "\\hline\n",
       "\t abacus    & trust    \\\\\n",
       "\t abandon   & fear     \\\\\n",
       "\t abandon   & negative \\\\\n",
       "\t abandon   & sadness  \\\\\n",
       "\t abandoned & anger    \\\\\n",
       "\t abandoned & fear     \\\\\n",
       "\\end{tabular}\n"
      ],
      "text/markdown": [
       "\n",
       "| word | sentiment |\n",
       "|---|---|\n",
       "| abacus    | trust     |\n",
       "| abandon   | fear      |\n",
       "| abandon   | negative  |\n",
       "| abandon   | sadness   |\n",
       "| abandoned | anger     |\n",
       "| abandoned | fear      |\n",
       "\n"
      ],
      "text/plain": [
       "  word      sentiment\n",
       "1 abacus    trust    \n",
       "2 abandon   fear     \n",
       "3 abandon   negative \n",
       "4 abandon   sadness  \n",
       "5 abandoned anger    \n",
       "6 abandoned fear     "
      ]
     },
     "metadata": {},
     "output_type": "display_data"
    }
   ],
   "source": [
    "head(get_sentiments(\"nrc\"))"
   ]
  },
  {
   "cell_type": "markdown",
   "metadata": {},
   "source": [
    "### Appending Dictionary"
   ]
  },
  {
   "cell_type": "code",
   "execution_count": 19,
   "metadata": {},
   "outputs": [
    {
     "name": "stderr",
     "output_type": "stream",
     "text": [
      "Joining, by = \"word\""
     ]
    },
    {
     "data": {
      "text/html": [
       "<table>\n",
       "<thead><tr><th scope=col>Date</th><th scope=col>Product</th><th scope=col>Stars</th><th scope=col>Title</th><th scope=col>word</th><th scope=col>sentiment</th></tr></thead>\n",
       "<tbody>\n",
       "\t<tr><td>2/28/15                                       </td><td>iRobot Roomba 650 for Pets                    </td><td>5                                             </td><td>Five Stars                                    </td><td>believe                                       </td><td>uncertainty                                   </td></tr>\n",
       "\t<tr><td>8/4/13                                        </td><td>iRobot Roomba 650 for Pets                    </td><td>3                                             </td><td>Love-hate this vaccuum                        </td><td>could                                         </td><td>uncertainty                                   </td></tr>\n",
       "\t<tr><td>12/22/15                                      </td><td>iRobot Roomba 650 for Pets                    </td><td>5                                             </td><td>This vacuum is fantastic!!                    </td><td>slow                                          </td><td>negative                                      </td></tr>\n",
       "\t<tr><td>12/22/15                                      </td><td>iRobot Roomba 650 for Pets                    </td><td>5                                             </td><td>This vacuum is fantastic!!                    </td><td>problem                                       </td><td>negative                                      </td></tr>\n",
       "\t<tr><td>12/22/15                                      </td><td>iRobot Roomba 650 for Pets                    </td><td>5                                             </td><td>This vacuum is fantastic!!                    </td><td>easily                                        </td><td>positive                                      </td></tr>\n",
       "\t<tr><td>12/22/15                                      </td><td>iRobot Roomba 650 for Pets                    </td><td>5                                             </td><td>This vacuum is fantastic!!                    </td><td>seems                                         </td><td>uncertainty                                   </td></tr>\n",
       "\t<tr><td>12/22/15                                      </td><td>iRobot Roomba 650 for Pets                    </td><td>5                                             </td><td>This vacuum is fantastic!!                    </td><td>random                                        </td><td>uncertainty                                   </td></tr>\n",
       "\t<tr><td>12/22/15                                      </td><td>iRobot Roomba 650 for Pets                    </td><td>5                                             </td><td>This vacuum is fantastic!!                    </td><td>great                                         </td><td>positive                                      </td></tr>\n",
       "\t<tr><td>12/22/15                                      </td><td>iRobot Roomba 650 for Pets                    </td><td>5                                             </td><td>This vacuum is fantastic!!                    </td><td>believe                                       </td><td>uncertainty                                   </td></tr>\n",
       "\t<tr><td>12/22/15                                      </td><td>iRobot Roomba 650 for Pets                    </td><td>5                                             </td><td>This vacuum is fantastic!!                    </td><td>easy                                          </td><td>positive                                      </td></tr>\n",
       "\t<tr><td>12/22/15                                      </td><td>iRobot Roomba 650 for Pets                    </td><td>5                                             </td><td>This vacuum is fantastic!!                    </td><td>easy                                          </td><td>positive                                      </td></tr>\n",
       "\t<tr><td>12/22/15                                      </td><td>iRobot Roomba 650 for Pets                    </td><td>5                                             </td><td>This vacuum is fantastic!!                    </td><td>easy                                          </td><td>positive                                      </td></tr>\n",
       "\t<tr><td>12/22/15                                      </td><td>iRobot Roomba 650 for Pets                    </td><td>5                                             </td><td>This vacuum is fantastic!!                    </td><td>great                                         </td><td>positive                                      </td></tr>\n",
       "\t<tr><td>12/27/15                                      </td><td>iRobot Roomba 650 for Pets                    </td><td>5                                             </td><td>Wow!                                          </td><td>believe                                       </td><td>uncertainty                                   </td></tr>\n",
       "\t<tr><td>12/27/15                                      </td><td>iRobot Roomba 650 for Pets                    </td><td>5                                             </td><td>Wow!                                          </td><td>best                                          </td><td>positive                                      </td></tr>\n",
       "\t<tr><td>12/27/15                                      </td><td>iRobot Roomba 650 for Pets                    </td><td>5                                             </td><td>Wow!                                          </td><td>invention                                     </td><td>positive                                      </td></tr>\n",
       "\t<tr><td>8/17/15                                       </td><td>iRobot Roomba 650 for Pets                    </td><td>1                                             </td><td>Terrible Product - Ruined our Hardwood Floors!</td><td>damage                                        </td><td>negative                                      </td></tr>\n",
       "\t<tr><td>8/17/15                                       </td><td>iRobot Roomba 650 for Pets                    </td><td>1                                             </td><td>Terrible Product - Ruined our Hardwood Floors!</td><td>damage                                        </td><td>negative                                      </td></tr>\n",
       "\t<tr><td>8/17/15                                       </td><td>iRobot Roomba 650 for Pets                    </td><td>1                                             </td><td>Terrible Product - Ruined our Hardwood Floors!</td><td>justice                                       </td><td>litigious                                     </td></tr>\n",
       "\t<tr><td>12/28/15                                      </td><td>iRobot Roomba 650 for Pets                    </td><td>5                                             </td><td>Super-impressed by how well it works!         </td><td>may                                           </td><td>uncertainty                                   </td></tr>\n",
       "\t<tr><td>12/28/15                                      </td><td>iRobot Roomba 650 for Pets                    </td><td>5                                             </td><td>Super-impressed by how well it works!         </td><td>impressed                                     </td><td>positive                                      </td></tr>\n",
       "\t<tr><td>12/28/15                                      </td><td>iRobot Roomba 650 for Pets                    </td><td>5                                             </td><td>Super-impressed by how well it works!         </td><td>almost                                        </td><td>uncertainty                                   </td></tr>\n",
       "\t<tr><td>12/28/15                                      </td><td>iRobot Roomba 650 for Pets                    </td><td>5                                             </td><td>Super-impressed by how well it works!         </td><td>great                                         </td><td>positive                                      </td></tr>\n",
       "\t<tr><td>1/19/14                                       </td><td>iRobot Roomba 650 for Pets                    </td><td>5                                             </td><td>LOVE THIS                                     </td><td>best                                          </td><td>positive                                      </td></tr>\n",
       "\t<tr><td>7/2/15                                        </td><td>iRobot Roomba 650 for Pets                    </td><td>5                                             </td><td>Stress is bad; Roomba is great.               </td><td>prolong                                       </td><td>negative                                      </td></tr>\n",
       "\t<tr><td>7/2/15                                        </td><td>iRobot Roomba 650 for Pets                    </td><td>5                                             </td><td>Stress is bad; Roomba is great.               </td><td>stress                                        </td><td>negative                                      </td></tr>\n",
       "\t<tr><td>7/2/15                                        </td><td>iRobot Roomba 650 for Pets                    </td><td>5                                             </td><td>Stress is bad; Roomba is great.               </td><td>stress                                        </td><td>negative                                      </td></tr>\n",
       "\t<tr><td>2/12/15                                       </td><td>iRobot Roomba 650 for Pets                    </td><td>5                                             </td><td>How did I live without this!!?!               </td><td>maybe                                         </td><td>uncertainty                                   </td></tr>\n",
       "\t<tr><td>2/12/15                                       </td><td>iRobot Roomba 650 for Pets                    </td><td>5                                             </td><td>How did I live without this!!?!               </td><td>good                                          </td><td>positive                                      </td></tr>\n",
       "\t<tr><td>2/12/15                                       </td><td>iRobot Roomba 650 for Pets                    </td><td>5                                             </td><td>How did I live without this!!?!               </td><td>bad                                           </td><td>negative                                      </td></tr>\n",
       "\t<tr><td>...</td><td>...</td><td>...</td><td>...</td><td>...</td><td>...</td></tr>\n",
       "\t<tr><td>1/25/15                                                                                          </td><td>iRobot Roomba 880 for Pets and Allergies                                                         </td><td>2                                                                                                </td><td>High hopes. Big disappointment.                                                                  </td><td>disappointed                                                                                     </td><td>negative                                                                                         </td></tr>\n",
       "\t<tr><td>12/4/15                                                                                                                                     </td><td>iRobot Roomba 880 for Pets and Allergies                                                                                                    </td><td>5                                                                                                                                           </td><td><span style=white-space:pre-wrap>800 Series Roomba &gt; 900                                                                          </span></td><td><span style=white-space:pre-wrap>great       </span>                                                                                        </td><td><span style=white-space:pre-wrap>positive   </span>                                                                                         </td></tr>\n",
       "\t<tr><td>8/3/14                                                                                           </td><td>iRobot Roomba 880 for Pets and Allergies                                                         </td><td>5                                                                                                </td><td>Expensive but still a value                                                                      </td><td>easy                                                                                             </td><td>positive                                                                                         </td></tr>\n",
       "\t<tr><td>8/3/14                                                                                           </td><td>iRobot Roomba 880 for Pets and Allergies                                                         </td><td>5                                                                                                </td><td>Expensive but still a value                                                                      </td><td>seems                                                                                            </td><td>uncertainty                                                                                      </td></tr>\n",
       "\t<tr><td>8/3/14                                                                                           </td><td>iRobot Roomba 880 for Pets and Allergies                                                         </td><td>5                                                                                                </td><td>Expensive but still a value                                                                      </td><td>good                                                                                             </td><td>positive                                                                                         </td></tr>\n",
       "\t<tr><td>7/7/15                                                                                           </td><td>iRobot Roomba 880 for Pets and Allergies                                                         </td><td>3                                                                                                </td><td>Sometimes it fell down the stairs, bam bam bam bam bam, which broke my heart.                    </td><td>good                                                                                             </td><td>positive                                                                                         </td></tr>\n",
       "\t<tr><td>7/7/15                                                                                           </td><td>iRobot Roomba 880 for Pets and Allergies                                                         </td><td>3                                                                                                </td><td>Sometimes it fell down the stairs, bam bam bam bam bam, which broke my heart.                    </td><td>stopped                                                                                          </td><td>negative                                                                                         </td></tr>\n",
       "\t<tr><td>7/7/15                                                                                           </td><td>iRobot Roomba 880 for Pets and Allergies                                                         </td><td>3                                                                                                </td><td>Sometimes it fell down the stairs, bam bam bam bam bam, which broke my heart.                    </td><td>accidents                                                                                        </td><td>negative                                                                                         </td></tr>\n",
       "\t<tr><td>7/7/15                                                                                           </td><td>iRobot Roomba 880 for Pets and Allergies                                                         </td><td>3                                                                                                </td><td>Sometimes it fell down the stairs, bam bam bam bam bam, which broke my heart.                    </td><td>bad                                                                                              </td><td>negative                                                                                         </td></tr>\n",
       "\t<tr><td>7/7/15                                                                                           </td><td>iRobot Roomba 880 for Pets and Allergies                                                         </td><td>3                                                                                                </td><td>Sometimes it fell down the stairs, bam bam bam bam bam, which broke my heart.                    </td><td>damage                                                                                           </td><td>negative                                                                                         </td></tr>\n",
       "\t<tr><td>5/21/15                                                                                          </td><td>iRobot Roomba 880 for Pets and Allergies                                                         </td><td>5                                                                                                </td><td>This thing is amazing. With a dog that sheds more than any ...                                   </td><td>complaints                                                                                       </td><td>negative                                                                                         </td></tr>\n",
       "\t<tr><td>1/2/16                                                                                               </td><td>iRobot Roomba 880 for Pets and Allergies                                                             </td><td>5                                                                                                    </td><td>Best household purchase. Makes me more tidy! Millennial family with young child &amp; allergy issues.</td><td><span style=white-space:pre-wrap>best        </span>                                                 </td><td><span style=white-space:pre-wrap>positive   </span>                                                  </td></tr>\n",
       "\t<tr><td>1/2/16                                                                                               </td><td>iRobot Roomba 880 for Pets and Allergies                                                             </td><td>5                                                                                                    </td><td>Best household purchase. Makes me more tidy! Millennial family with young child &amp; allergy issues.</td><td><span style=white-space:pre-wrap>easy        </span>                                                 </td><td><span style=white-space:pre-wrap>positive   </span>                                                  </td></tr>\n",
       "\t<tr><td>1/2/16                                                                                               </td><td>iRobot Roomba 880 for Pets and Allergies                                                             </td><td>5                                                                                                    </td><td>Best household purchase. Makes me more tidy! Millennial family with young child &amp; allergy issues.</td><td><span style=white-space:pre-wrap>able        </span>                                                 </td><td><span style=white-space:pre-wrap>positive   </span>                                                  </td></tr>\n",
       "\t<tr><td>1/2/16                                                                                               </td><td>iRobot Roomba 880 for Pets and Allergies                                                             </td><td>5                                                                                                    </td><td>Best household purchase. Makes me more tidy! Millennial family with young child &amp; allergy issues.</td><td><span style=white-space:pre-wrap>loss        </span>                                                 </td><td><span style=white-space:pre-wrap>negative   </span>                                                  </td></tr>\n",
       "\t<tr><td>1/2/16                                                                                               </td><td>iRobot Roomba 880 for Pets and Allergies                                                             </td><td>5                                                                                                    </td><td>Best household purchase. Makes me more tidy! Millennial family with young child &amp; allergy issues.</td><td><span style=white-space:pre-wrap>wrong       </span>                                                 </td><td><span style=white-space:pre-wrap>negative   </span>                                                  </td></tr>\n",
       "\t<tr><td>1/2/16                                                                                               </td><td>iRobot Roomba 880 for Pets and Allergies                                                             </td><td>5                                                                                                    </td><td>Best household purchase. Makes me more tidy! Millennial family with young child &amp; allergy issues.</td><td><span style=white-space:pre-wrap>able        </span>                                                 </td><td><span style=white-space:pre-wrap>positive   </span>                                                  </td></tr>\n",
       "\t<tr><td>1/2/16                                                                                               </td><td>iRobot Roomba 880 for Pets and Allergies                                                             </td><td>5                                                                                                    </td><td>Best household purchase. Makes me more tidy! Millennial family with young child &amp; allergy issues.</td><td><span style=white-space:pre-wrap>able        </span>                                                 </td><td><span style=white-space:pre-wrap>positive   </span>                                                  </td></tr>\n",
       "\t<tr><td>1/2/16                                                                                               </td><td>iRobot Roomba 880 for Pets and Allergies                                                             </td><td>5                                                                                                    </td><td>Best household purchase. Makes me more tidy! Millennial family with young child &amp; allergy issues.</td><td><span style=white-space:pre-wrap>able        </span>                                                 </td><td><span style=white-space:pre-wrap>positive   </span>                                                  </td></tr>\n",
       "\t<tr><td>1/2/16                                                                                               </td><td>iRobot Roomba 880 for Pets and Allergies                                                             </td><td>5                                                                                                    </td><td>Best household purchase. Makes me more tidy! Millennial family with young child &amp; allergy issues.</td><td><span style=white-space:pre-wrap>probably    </span>                                                 </td><td>uncertainty                                                                                          </td></tr>\n",
       "\t<tr><td>1/2/16                                                                                               </td><td>iRobot Roomba 880 for Pets and Allergies                                                             </td><td>5                                                                                                    </td><td>Best household purchase. Makes me more tidy! Millennial family with young child &amp; allergy issues.</td><td><span style=white-space:pre-wrap>stopped     </span>                                                 </td><td><span style=white-space:pre-wrap>negative   </span>                                                  </td></tr>\n",
       "\t<tr><td>1/2/16                                                                                               </td><td>iRobot Roomba 880 for Pets and Allergies                                                             </td><td>5                                                                                                    </td><td>Best household purchase. Makes me more tidy! Millennial family with young child &amp; allergy issues.</td><td><span style=white-space:pre-wrap>warning     </span>                                                 </td><td><span style=white-space:pre-wrap>negative   </span>                                                  </td></tr>\n",
       "\t<tr><td>1/2/16                                                                                               </td><td>iRobot Roomba 880 for Pets and Allergies                                                             </td><td>5                                                                                                    </td><td>Best household purchase. Makes me more tidy! Millennial family with young child &amp; allergy issues.</td><td><span style=white-space:pre-wrap>damage      </span>                                                 </td><td><span style=white-space:pre-wrap>negative   </span>                                                  </td></tr>\n",
       "\t<tr><td>1/2/16                                                                                               </td><td>iRobot Roomba 880 for Pets and Allergies                                                             </td><td>5                                                                                                    </td><td>Best household purchase. Makes me more tidy! Millennial family with young child &amp; allergy issues.</td><td><span style=white-space:pre-wrap>perfectly   </span>                                                 </td><td><span style=white-space:pre-wrap>positive   </span>                                                  </td></tr>\n",
       "\t<tr><td>1/2/16                                                                                               </td><td>iRobot Roomba 880 for Pets and Allergies                                                             </td><td>5                                                                                                    </td><td>Best household purchase. Makes me more tidy! Millennial family with young child &amp; allergy issues.</td><td><span style=white-space:pre-wrap>damage      </span>                                                 </td><td><span style=white-space:pre-wrap>negative   </span>                                                  </td></tr>\n",
       "\t<tr><td>1/2/16                                                                                               </td><td>iRobot Roomba 880 for Pets and Allergies                                                             </td><td>5                                                                                                    </td><td>Best household purchase. Makes me more tidy! Millennial family with young child &amp; allergy issues.</td><td><span style=white-space:pre-wrap>may         </span>                                                 </td><td>uncertainty                                                                                          </td></tr>\n",
       "\t<tr><td>1/2/16                                                                                               </td><td>iRobot Roomba 880 for Pets and Allergies                                                             </td><td>5                                                                                                    </td><td>Best household purchase. Makes me more tidy! Millennial family with young child &amp; allergy issues.</td><td><span style=white-space:pre-wrap>excited     </span>                                                 </td><td><span style=white-space:pre-wrap>positive   </span>                                                  </td></tr>\n",
       "\t<tr><td>1/2/16                                                                                               </td><td>iRobot Roomba 880 for Pets and Allergies                                                             </td><td>5                                                                                                    </td><td>Best household purchase. Makes me more tidy! Millennial family with young child &amp; allergy issues.</td><td><span style=white-space:pre-wrap>believe     </span>                                                 </td><td>uncertainty                                                                                          </td></tr>\n",
       "\t<tr><td>1/2/16                                                                                               </td><td>iRobot Roomba 880 for Pets and Allergies                                                             </td><td>5                                                                                                    </td><td>Best household purchase. Makes me more tidy! Millennial family with young child &amp; allergy issues.</td><td><span style=white-space:pre-wrap>better      </span>                                                 </td><td><span style=white-space:pre-wrap>positive   </span>                                                  </td></tr>\n",
       "\t<tr><td>6/12/15                                                                                          </td><td>iRobot Roomba 880 for Pets and Allergies                                                         </td><td>5                                                                                                </td><td>One word- AWESOME!!!!                                                                            </td><td>best                                                                                             </td><td>positive                                                                                         </td></tr>\n",
       "</tbody>\n",
       "</table>\n"
      ],
      "text/latex": [
       "\\begin{tabular}{r|llllll}\n",
       " Date & Product & Stars & Title & word & sentiment\\\\\n",
       "\\hline\n",
       "\t 2/28/15                                        & iRobot Roomba 650 for Pets                     & 5                                              & Five Stars                                     & believe                                        & uncertainty                                   \\\\\n",
       "\t 8/4/13                                         & iRobot Roomba 650 for Pets                     & 3                                              & Love-hate this vaccuum                         & could                                          & uncertainty                                   \\\\\n",
       "\t 12/22/15                                       & iRobot Roomba 650 for Pets                     & 5                                              & This vacuum is fantastic!!                     & slow                                           & negative                                      \\\\\n",
       "\t 12/22/15                                       & iRobot Roomba 650 for Pets                     & 5                                              & This vacuum is fantastic!!                     & problem                                        & negative                                      \\\\\n",
       "\t 12/22/15                                       & iRobot Roomba 650 for Pets                     & 5                                              & This vacuum is fantastic!!                     & easily                                         & positive                                      \\\\\n",
       "\t 12/22/15                                       & iRobot Roomba 650 for Pets                     & 5                                              & This vacuum is fantastic!!                     & seems                                          & uncertainty                                   \\\\\n",
       "\t 12/22/15                                       & iRobot Roomba 650 for Pets                     & 5                                              & This vacuum is fantastic!!                     & random                                         & uncertainty                                   \\\\\n",
       "\t 12/22/15                                       & iRobot Roomba 650 for Pets                     & 5                                              & This vacuum is fantastic!!                     & great                                          & positive                                      \\\\\n",
       "\t 12/22/15                                       & iRobot Roomba 650 for Pets                     & 5                                              & This vacuum is fantastic!!                     & believe                                        & uncertainty                                   \\\\\n",
       "\t 12/22/15                                       & iRobot Roomba 650 for Pets                     & 5                                              & This vacuum is fantastic!!                     & easy                                           & positive                                      \\\\\n",
       "\t 12/22/15                                       & iRobot Roomba 650 for Pets                     & 5                                              & This vacuum is fantastic!!                     & easy                                           & positive                                      \\\\\n",
       "\t 12/22/15                                       & iRobot Roomba 650 for Pets                     & 5                                              & This vacuum is fantastic!!                     & easy                                           & positive                                      \\\\\n",
       "\t 12/22/15                                       & iRobot Roomba 650 for Pets                     & 5                                              & This vacuum is fantastic!!                     & great                                          & positive                                      \\\\\n",
       "\t 12/27/15                                       & iRobot Roomba 650 for Pets                     & 5                                              & Wow!                                           & believe                                        & uncertainty                                   \\\\\n",
       "\t 12/27/15                                       & iRobot Roomba 650 for Pets                     & 5                                              & Wow!                                           & best                                           & positive                                      \\\\\n",
       "\t 12/27/15                                       & iRobot Roomba 650 for Pets                     & 5                                              & Wow!                                           & invention                                      & positive                                      \\\\\n",
       "\t 8/17/15                                        & iRobot Roomba 650 for Pets                     & 1                                              & Terrible Product - Ruined our Hardwood Floors! & damage                                         & negative                                      \\\\\n",
       "\t 8/17/15                                        & iRobot Roomba 650 for Pets                     & 1                                              & Terrible Product - Ruined our Hardwood Floors! & damage                                         & negative                                      \\\\\n",
       "\t 8/17/15                                        & iRobot Roomba 650 for Pets                     & 1                                              & Terrible Product - Ruined our Hardwood Floors! & justice                                        & litigious                                     \\\\\n",
       "\t 12/28/15                                       & iRobot Roomba 650 for Pets                     & 5                                              & Super-impressed by how well it works!          & may                                            & uncertainty                                   \\\\\n",
       "\t 12/28/15                                       & iRobot Roomba 650 for Pets                     & 5                                              & Super-impressed by how well it works!          & impressed                                      & positive                                      \\\\\n",
       "\t 12/28/15                                       & iRobot Roomba 650 for Pets                     & 5                                              & Super-impressed by how well it works!          & almost                                         & uncertainty                                   \\\\\n",
       "\t 12/28/15                                       & iRobot Roomba 650 for Pets                     & 5                                              & Super-impressed by how well it works!          & great                                          & positive                                      \\\\\n",
       "\t 1/19/14                                        & iRobot Roomba 650 for Pets                     & 5                                              & LOVE THIS                                      & best                                           & positive                                      \\\\\n",
       "\t 7/2/15                                         & iRobot Roomba 650 for Pets                     & 5                                              & Stress is bad; Roomba is great.                & prolong                                        & negative                                      \\\\\n",
       "\t 7/2/15                                         & iRobot Roomba 650 for Pets                     & 5                                              & Stress is bad; Roomba is great.                & stress                                         & negative                                      \\\\\n",
       "\t 7/2/15                                         & iRobot Roomba 650 for Pets                     & 5                                              & Stress is bad; Roomba is great.                & stress                                         & negative                                      \\\\\n",
       "\t 2/12/15                                        & iRobot Roomba 650 for Pets                     & 5                                              & How did I live without this!!?!                & maybe                                          & uncertainty                                   \\\\\n",
       "\t 2/12/15                                        & iRobot Roomba 650 for Pets                     & 5                                              & How did I live without this!!?!                & good                                           & positive                                      \\\\\n",
       "\t 2/12/15                                        & iRobot Roomba 650 for Pets                     & 5                                              & How did I live without this!!?!                & bad                                            & negative                                      \\\\\n",
       "\t ... & ... & ... & ... & ... & ...\\\\\n",
       "\t 1/25/15                                                                                           & iRobot Roomba 880 for Pets and Allergies                                                          & 2                                                                                                 & High hopes. Big disappointment.                                                                   & disappointed                                                                                      & negative                                                                                         \\\\\n",
       "\t 12/4/15                                                                                           & iRobot Roomba 880 for Pets and Allergies                                                          & 5                                                                                                 & 800 Series Roomba > 900                                                                           & great                                                                                             & positive                                                                                         \\\\\n",
       "\t 8/3/14                                                                                            & iRobot Roomba 880 for Pets and Allergies                                                          & 5                                                                                                 & Expensive but still a value                                                                       & easy                                                                                              & positive                                                                                         \\\\\n",
       "\t 8/3/14                                                                                            & iRobot Roomba 880 for Pets and Allergies                                                          & 5                                                                                                 & Expensive but still a value                                                                       & seems                                                                                             & uncertainty                                                                                      \\\\\n",
       "\t 8/3/14                                                                                            & iRobot Roomba 880 for Pets and Allergies                                                          & 5                                                                                                 & Expensive but still a value                                                                       & good                                                                                              & positive                                                                                         \\\\\n",
       "\t 7/7/15                                                                                            & iRobot Roomba 880 for Pets and Allergies                                                          & 3                                                                                                 & Sometimes it fell down the stairs, bam bam bam bam bam, which broke my heart.                     & good                                                                                              & positive                                                                                         \\\\\n",
       "\t 7/7/15                                                                                            & iRobot Roomba 880 for Pets and Allergies                                                          & 3                                                                                                 & Sometimes it fell down the stairs, bam bam bam bam bam, which broke my heart.                     & stopped                                                                                           & negative                                                                                         \\\\\n",
       "\t 7/7/15                                                                                            & iRobot Roomba 880 for Pets and Allergies                                                          & 3                                                                                                 & Sometimes it fell down the stairs, bam bam bam bam bam, which broke my heart.                     & accidents                                                                                         & negative                                                                                         \\\\\n",
       "\t 7/7/15                                                                                            & iRobot Roomba 880 for Pets and Allergies                                                          & 3                                                                                                 & Sometimes it fell down the stairs, bam bam bam bam bam, which broke my heart.                     & bad                                                                                               & negative                                                                                         \\\\\n",
       "\t 7/7/15                                                                                            & iRobot Roomba 880 for Pets and Allergies                                                          & 3                                                                                                 & Sometimes it fell down the stairs, bam bam bam bam bam, which broke my heart.                     & damage                                                                                            & negative                                                                                         \\\\\n",
       "\t 5/21/15                                                                                           & iRobot Roomba 880 for Pets and Allergies                                                          & 5                                                                                                 & This thing is amazing. With a dog that sheds more than any ...                                    & complaints                                                                                        & negative                                                                                         \\\\\n",
       "\t 1/2/16                                                                                              & iRobot Roomba 880 for Pets and Allergies                                                            & 5                                                                                                   & Best household purchase. Makes me more tidy! Millennial family with young child \\& allergy issues. & best                                                                                                & positive                                                                                           \\\\\n",
       "\t 1/2/16                                                                                              & iRobot Roomba 880 for Pets and Allergies                                                            & 5                                                                                                   & Best household purchase. Makes me more tidy! Millennial family with young child \\& allergy issues. & easy                                                                                                & positive                                                                                           \\\\\n",
       "\t 1/2/16                                                                                              & iRobot Roomba 880 for Pets and Allergies                                                            & 5                                                                                                   & Best household purchase. Makes me more tidy! Millennial family with young child \\& allergy issues. & able                                                                                                & positive                                                                                           \\\\\n",
       "\t 1/2/16                                                                                              & iRobot Roomba 880 for Pets and Allergies                                                            & 5                                                                                                   & Best household purchase. Makes me more tidy! Millennial family with young child \\& allergy issues. & loss                                                                                                & negative                                                                                           \\\\\n",
       "\t 1/2/16                                                                                              & iRobot Roomba 880 for Pets and Allergies                                                            & 5                                                                                                   & Best household purchase. Makes me more tidy! Millennial family with young child \\& allergy issues. & wrong                                                                                               & negative                                                                                           \\\\\n",
       "\t 1/2/16                                                                                              & iRobot Roomba 880 for Pets and Allergies                                                            & 5                                                                                                   & Best household purchase. Makes me more tidy! Millennial family with young child \\& allergy issues. & able                                                                                                & positive                                                                                           \\\\\n",
       "\t 1/2/16                                                                                              & iRobot Roomba 880 for Pets and Allergies                                                            & 5                                                                                                   & Best household purchase. Makes me more tidy! Millennial family with young child \\& allergy issues. & able                                                                                                & positive                                                                                           \\\\\n",
       "\t 1/2/16                                                                                              & iRobot Roomba 880 for Pets and Allergies                                                            & 5                                                                                                   & Best household purchase. Makes me more tidy! Millennial family with young child \\& allergy issues. & able                                                                                                & positive                                                                                           \\\\\n",
       "\t 1/2/16                                                                                              & iRobot Roomba 880 for Pets and Allergies                                                            & 5                                                                                                   & Best household purchase. Makes me more tidy! Millennial family with young child \\& allergy issues. & probably                                                                                            & uncertainty                                                                                        \\\\\n",
       "\t 1/2/16                                                                                              & iRobot Roomba 880 for Pets and Allergies                                                            & 5                                                                                                   & Best household purchase. Makes me more tidy! Millennial family with young child \\& allergy issues. & stopped                                                                                             & negative                                                                                           \\\\\n",
       "\t 1/2/16                                                                                              & iRobot Roomba 880 for Pets and Allergies                                                            & 5                                                                                                   & Best household purchase. Makes me more tidy! Millennial family with young child \\& allergy issues. & warning                                                                                             & negative                                                                                           \\\\\n",
       "\t 1/2/16                                                                                              & iRobot Roomba 880 for Pets and Allergies                                                            & 5                                                                                                   & Best household purchase. Makes me more tidy! Millennial family with young child \\& allergy issues. & damage                                                                                              & negative                                                                                           \\\\\n",
       "\t 1/2/16                                                                                              & iRobot Roomba 880 for Pets and Allergies                                                            & 5                                                                                                   & Best household purchase. Makes me more tidy! Millennial family with young child \\& allergy issues. & perfectly                                                                                           & positive                                                                                           \\\\\n",
       "\t 1/2/16                                                                                              & iRobot Roomba 880 for Pets and Allergies                                                            & 5                                                                                                   & Best household purchase. Makes me more tidy! Millennial family with young child \\& allergy issues. & damage                                                                                              & negative                                                                                           \\\\\n",
       "\t 1/2/16                                                                                              & iRobot Roomba 880 for Pets and Allergies                                                            & 5                                                                                                   & Best household purchase. Makes me more tidy! Millennial family with young child \\& allergy issues. & may                                                                                                 & uncertainty                                                                                        \\\\\n",
       "\t 1/2/16                                                                                              & iRobot Roomba 880 for Pets and Allergies                                                            & 5                                                                                                   & Best household purchase. Makes me more tidy! Millennial family with young child \\& allergy issues. & excited                                                                                             & positive                                                                                           \\\\\n",
       "\t 1/2/16                                                                                              & iRobot Roomba 880 for Pets and Allergies                                                            & 5                                                                                                   & Best household purchase. Makes me more tidy! Millennial family with young child \\& allergy issues. & believe                                                                                             & uncertainty                                                                                        \\\\\n",
       "\t 1/2/16                                                                                              & iRobot Roomba 880 for Pets and Allergies                                                            & 5                                                                                                   & Best household purchase. Makes me more tidy! Millennial family with young child \\& allergy issues. & better                                                                                              & positive                                                                                           \\\\\n",
       "\t 6/12/15                                                                                           & iRobot Roomba 880 for Pets and Allergies                                                          & 5                                                                                                 & One word- AWESOME!!!!                                                                             & best                                                                                              & positive                                                                                         \\\\\n",
       "\\end{tabular}\n"
      ],
      "text/markdown": [
       "\n",
       "| Date | Product | Stars | Title | word | sentiment |\n",
       "|---|---|---|---|---|---|\n",
       "| 2/28/15                                        | iRobot Roomba 650 for Pets                     | 5                                              | Five Stars                                     | believe                                        | uncertainty                                    |\n",
       "| 8/4/13                                         | iRobot Roomba 650 for Pets                     | 3                                              | Love-hate this vaccuum                         | could                                          | uncertainty                                    |\n",
       "| 12/22/15                                       | iRobot Roomba 650 for Pets                     | 5                                              | This vacuum is fantastic!!                     | slow                                           | negative                                       |\n",
       "| 12/22/15                                       | iRobot Roomba 650 for Pets                     | 5                                              | This vacuum is fantastic!!                     | problem                                        | negative                                       |\n",
       "| 12/22/15                                       | iRobot Roomba 650 for Pets                     | 5                                              | This vacuum is fantastic!!                     | easily                                         | positive                                       |\n",
       "| 12/22/15                                       | iRobot Roomba 650 for Pets                     | 5                                              | This vacuum is fantastic!!                     | seems                                          | uncertainty                                    |\n",
       "| 12/22/15                                       | iRobot Roomba 650 for Pets                     | 5                                              | This vacuum is fantastic!!                     | random                                         | uncertainty                                    |\n",
       "| 12/22/15                                       | iRobot Roomba 650 for Pets                     | 5                                              | This vacuum is fantastic!!                     | great                                          | positive                                       |\n",
       "| 12/22/15                                       | iRobot Roomba 650 for Pets                     | 5                                              | This vacuum is fantastic!!                     | believe                                        | uncertainty                                    |\n",
       "| 12/22/15                                       | iRobot Roomba 650 for Pets                     | 5                                              | This vacuum is fantastic!!                     | easy                                           | positive                                       |\n",
       "| 12/22/15                                       | iRobot Roomba 650 for Pets                     | 5                                              | This vacuum is fantastic!!                     | easy                                           | positive                                       |\n",
       "| 12/22/15                                       | iRobot Roomba 650 for Pets                     | 5                                              | This vacuum is fantastic!!                     | easy                                           | positive                                       |\n",
       "| 12/22/15                                       | iRobot Roomba 650 for Pets                     | 5                                              | This vacuum is fantastic!!                     | great                                          | positive                                       |\n",
       "| 12/27/15                                       | iRobot Roomba 650 for Pets                     | 5                                              | Wow!                                           | believe                                        | uncertainty                                    |\n",
       "| 12/27/15                                       | iRobot Roomba 650 for Pets                     | 5                                              | Wow!                                           | best                                           | positive                                       |\n",
       "| 12/27/15                                       | iRobot Roomba 650 for Pets                     | 5                                              | Wow!                                           | invention                                      | positive                                       |\n",
       "| 8/17/15                                        | iRobot Roomba 650 for Pets                     | 1                                              | Terrible Product - Ruined our Hardwood Floors! | damage                                         | negative                                       |\n",
       "| 8/17/15                                        | iRobot Roomba 650 for Pets                     | 1                                              | Terrible Product - Ruined our Hardwood Floors! | damage                                         | negative                                       |\n",
       "| 8/17/15                                        | iRobot Roomba 650 for Pets                     | 1                                              | Terrible Product - Ruined our Hardwood Floors! | justice                                        | litigious                                      |\n",
       "| 12/28/15                                       | iRobot Roomba 650 for Pets                     | 5                                              | Super-impressed by how well it works!          | may                                            | uncertainty                                    |\n",
       "| 12/28/15                                       | iRobot Roomba 650 for Pets                     | 5                                              | Super-impressed by how well it works!          | impressed                                      | positive                                       |\n",
       "| 12/28/15                                       | iRobot Roomba 650 for Pets                     | 5                                              | Super-impressed by how well it works!          | almost                                         | uncertainty                                    |\n",
       "| 12/28/15                                       | iRobot Roomba 650 for Pets                     | 5                                              | Super-impressed by how well it works!          | great                                          | positive                                       |\n",
       "| 1/19/14                                        | iRobot Roomba 650 for Pets                     | 5                                              | LOVE THIS                                      | best                                           | positive                                       |\n",
       "| 7/2/15                                         | iRobot Roomba 650 for Pets                     | 5                                              | Stress is bad; Roomba is great.                | prolong                                        | negative                                       |\n",
       "| 7/2/15                                         | iRobot Roomba 650 for Pets                     | 5                                              | Stress is bad; Roomba is great.                | stress                                         | negative                                       |\n",
       "| 7/2/15                                         | iRobot Roomba 650 for Pets                     | 5                                              | Stress is bad; Roomba is great.                | stress                                         | negative                                       |\n",
       "| 2/12/15                                        | iRobot Roomba 650 for Pets                     | 5                                              | How did I live without this!!?!                | maybe                                          | uncertainty                                    |\n",
       "| 2/12/15                                        | iRobot Roomba 650 for Pets                     | 5                                              | How did I live without this!!?!                | good                                           | positive                                       |\n",
       "| 2/12/15                                        | iRobot Roomba 650 for Pets                     | 5                                              | How did I live without this!!?!                | bad                                            | negative                                       |\n",
       "| ... | ... | ... | ... | ... | ... |\n",
       "| 1/25/15                                                                                           | iRobot Roomba 880 for Pets and Allergies                                                          | 2                                                                                                 | High hopes. Big disappointment.                                                                   | disappointed                                                                                      | negative                                                                                          |\n",
       "| 12/4/15                                                                                           | iRobot Roomba 880 for Pets and Allergies                                                          | 5                                                                                                 | 800 Series Roomba > 900                                                                           | great                                                                                             | positive                                                                                          |\n",
       "| 8/3/14                                                                                            | iRobot Roomba 880 for Pets and Allergies                                                          | 5                                                                                                 | Expensive but still a value                                                                       | easy                                                                                              | positive                                                                                          |\n",
       "| 8/3/14                                                                                            | iRobot Roomba 880 for Pets and Allergies                                                          | 5                                                                                                 | Expensive but still a value                                                                       | seems                                                                                             | uncertainty                                                                                       |\n",
       "| 8/3/14                                                                                            | iRobot Roomba 880 for Pets and Allergies                                                          | 5                                                                                                 | Expensive but still a value                                                                       | good                                                                                              | positive                                                                                          |\n",
       "| 7/7/15                                                                                            | iRobot Roomba 880 for Pets and Allergies                                                          | 3                                                                                                 | Sometimes it fell down the stairs, bam bam bam bam bam, which broke my heart.                     | good                                                                                              | positive                                                                                          |\n",
       "| 7/7/15                                                                                            | iRobot Roomba 880 for Pets and Allergies                                                          | 3                                                                                                 | Sometimes it fell down the stairs, bam bam bam bam bam, which broke my heart.                     | stopped                                                                                           | negative                                                                                          |\n",
       "| 7/7/15                                                                                            | iRobot Roomba 880 for Pets and Allergies                                                          | 3                                                                                                 | Sometimes it fell down the stairs, bam bam bam bam bam, which broke my heart.                     | accidents                                                                                         | negative                                                                                          |\n",
       "| 7/7/15                                                                                            | iRobot Roomba 880 for Pets and Allergies                                                          | 3                                                                                                 | Sometimes it fell down the stairs, bam bam bam bam bam, which broke my heart.                     | bad                                                                                               | negative                                                                                          |\n",
       "| 7/7/15                                                                                            | iRobot Roomba 880 for Pets and Allergies                                                          | 3                                                                                                 | Sometimes it fell down the stairs, bam bam bam bam bam, which broke my heart.                     | damage                                                                                            | negative                                                                                          |\n",
       "| 5/21/15                                                                                           | iRobot Roomba 880 for Pets and Allergies                                                          | 5                                                                                                 | This thing is amazing. With a dog that sheds more than any ...                                    | complaints                                                                                        | negative                                                                                          |\n",
       "| 1/2/16                                                                                            | iRobot Roomba 880 for Pets and Allergies                                                          | 5                                                                                                 | Best household purchase. Makes me more tidy! Millennial family with young child & allergy issues. | best                                                                                              | positive                                                                                          |\n",
       "| 1/2/16                                                                                            | iRobot Roomba 880 for Pets and Allergies                                                          | 5                                                                                                 | Best household purchase. Makes me more tidy! Millennial family with young child & allergy issues. | easy                                                                                              | positive                                                                                          |\n",
       "| 1/2/16                                                                                            | iRobot Roomba 880 for Pets and Allergies                                                          | 5                                                                                                 | Best household purchase. Makes me more tidy! Millennial family with young child & allergy issues. | able                                                                                              | positive                                                                                          |\n",
       "| 1/2/16                                                                                            | iRobot Roomba 880 for Pets and Allergies                                                          | 5                                                                                                 | Best household purchase. Makes me more tidy! Millennial family with young child & allergy issues. | loss                                                                                              | negative                                                                                          |\n",
       "| 1/2/16                                                                                            | iRobot Roomba 880 for Pets and Allergies                                                          | 5                                                                                                 | Best household purchase. Makes me more tidy! Millennial family with young child & allergy issues. | wrong                                                                                             | negative                                                                                          |\n",
       "| 1/2/16                                                                                            | iRobot Roomba 880 for Pets and Allergies                                                          | 5                                                                                                 | Best household purchase. Makes me more tidy! Millennial family with young child & allergy issues. | able                                                                                              | positive                                                                                          |\n",
       "| 1/2/16                                                                                            | iRobot Roomba 880 for Pets and Allergies                                                          | 5                                                                                                 | Best household purchase. Makes me more tidy! Millennial family with young child & allergy issues. | able                                                                                              | positive                                                                                          |\n",
       "| 1/2/16                                                                                            | iRobot Roomba 880 for Pets and Allergies                                                          | 5                                                                                                 | Best household purchase. Makes me more tidy! Millennial family with young child & allergy issues. | able                                                                                              | positive                                                                                          |\n",
       "| 1/2/16                                                                                            | iRobot Roomba 880 for Pets and Allergies                                                          | 5                                                                                                 | Best household purchase. Makes me more tidy! Millennial family with young child & allergy issues. | probably                                                                                          | uncertainty                                                                                       |\n",
       "| 1/2/16                                                                                            | iRobot Roomba 880 for Pets and Allergies                                                          | 5                                                                                                 | Best household purchase. Makes me more tidy! Millennial family with young child & allergy issues. | stopped                                                                                           | negative                                                                                          |\n",
       "| 1/2/16                                                                                            | iRobot Roomba 880 for Pets and Allergies                                                          | 5                                                                                                 | Best household purchase. Makes me more tidy! Millennial family with young child & allergy issues. | warning                                                                                           | negative                                                                                          |\n",
       "| 1/2/16                                                                                            | iRobot Roomba 880 for Pets and Allergies                                                          | 5                                                                                                 | Best household purchase. Makes me more tidy! Millennial family with young child & allergy issues. | damage                                                                                            | negative                                                                                          |\n",
       "| 1/2/16                                                                                            | iRobot Roomba 880 for Pets and Allergies                                                          | 5                                                                                                 | Best household purchase. Makes me more tidy! Millennial family with young child & allergy issues. | perfectly                                                                                         | positive                                                                                          |\n",
       "| 1/2/16                                                                                            | iRobot Roomba 880 for Pets and Allergies                                                          | 5                                                                                                 | Best household purchase. Makes me more tidy! Millennial family with young child & allergy issues. | damage                                                                                            | negative                                                                                          |\n",
       "| 1/2/16                                                                                            | iRobot Roomba 880 for Pets and Allergies                                                          | 5                                                                                                 | Best household purchase. Makes me more tidy! Millennial family with young child & allergy issues. | may                                                                                               | uncertainty                                                                                       |\n",
       "| 1/2/16                                                                                            | iRobot Roomba 880 for Pets and Allergies                                                          | 5                                                                                                 | Best household purchase. Makes me more tidy! Millennial family with young child & allergy issues. | excited                                                                                           | positive                                                                                          |\n",
       "| 1/2/16                                                                                            | iRobot Roomba 880 for Pets and Allergies                                                          | 5                                                                                                 | Best household purchase. Makes me more tidy! Millennial family with young child & allergy issues. | believe                                                                                           | uncertainty                                                                                       |\n",
       "| 1/2/16                                                                                            | iRobot Roomba 880 for Pets and Allergies                                                          | 5                                                                                                 | Best household purchase. Makes me more tidy! Millennial family with young child & allergy issues. | better                                                                                            | positive                                                                                          |\n",
       "| 6/12/15                                                                                           | iRobot Roomba 880 for Pets and Allergies                                                          | 5                                                                                                 | One word- AWESOME!!!!                                                                             | best                                                                                              | positive                                                                                          |\n",
       "\n"
      ],
      "text/plain": [
       "     Date     Product                                  Stars\n",
       "1    2/28/15  iRobot Roomba 650 for Pets               5    \n",
       "2    8/4/13   iRobot Roomba 650 for Pets               3    \n",
       "3    12/22/15 iRobot Roomba 650 for Pets               5    \n",
       "4    12/22/15 iRobot Roomba 650 for Pets               5    \n",
       "5    12/22/15 iRobot Roomba 650 for Pets               5    \n",
       "6    12/22/15 iRobot Roomba 650 for Pets               5    \n",
       "7    12/22/15 iRobot Roomba 650 for Pets               5    \n",
       "8    12/22/15 iRobot Roomba 650 for Pets               5    \n",
       "9    12/22/15 iRobot Roomba 650 for Pets               5    \n",
       "10   12/22/15 iRobot Roomba 650 for Pets               5    \n",
       "11   12/22/15 iRobot Roomba 650 for Pets               5    \n",
       "12   12/22/15 iRobot Roomba 650 for Pets               5    \n",
       "13   12/22/15 iRobot Roomba 650 for Pets               5    \n",
       "14   12/27/15 iRobot Roomba 650 for Pets               5    \n",
       "15   12/27/15 iRobot Roomba 650 for Pets               5    \n",
       "16   12/27/15 iRobot Roomba 650 for Pets               5    \n",
       "17   8/17/15  iRobot Roomba 650 for Pets               1    \n",
       "18   8/17/15  iRobot Roomba 650 for Pets               1    \n",
       "19   8/17/15  iRobot Roomba 650 for Pets               1    \n",
       "20   12/28/15 iRobot Roomba 650 for Pets               5    \n",
       "21   12/28/15 iRobot Roomba 650 for Pets               5    \n",
       "22   12/28/15 iRobot Roomba 650 for Pets               5    \n",
       "23   12/28/15 iRobot Roomba 650 for Pets               5    \n",
       "24   1/19/14  iRobot Roomba 650 for Pets               5    \n",
       "25   7/2/15   iRobot Roomba 650 for Pets               5    \n",
       "26   7/2/15   iRobot Roomba 650 for Pets               5    \n",
       "27   7/2/15   iRobot Roomba 650 for Pets               5    \n",
       "28   2/12/15  iRobot Roomba 650 for Pets               5    \n",
       "29   2/12/15  iRobot Roomba 650 for Pets               5    \n",
       "30   2/12/15  iRobot Roomba 650 for Pets               5    \n",
       "...  ...      ...                                      ...  \n",
       "7334 1/25/15  iRobot Roomba 880 for Pets and Allergies 2    \n",
       "7335 12/4/15  iRobot Roomba 880 for Pets and Allergies 5    \n",
       "7336 8/3/14   iRobot Roomba 880 for Pets and Allergies 5    \n",
       "7337 8/3/14   iRobot Roomba 880 for Pets and Allergies 5    \n",
       "7338 8/3/14   iRobot Roomba 880 for Pets and Allergies 5    \n",
       "7339 7/7/15   iRobot Roomba 880 for Pets and Allergies 3    \n",
       "7340 7/7/15   iRobot Roomba 880 for Pets and Allergies 3    \n",
       "7341 7/7/15   iRobot Roomba 880 for Pets and Allergies 3    \n",
       "7342 7/7/15   iRobot Roomba 880 for Pets and Allergies 3    \n",
       "7343 7/7/15   iRobot Roomba 880 for Pets and Allergies 3    \n",
       "7344 5/21/15  iRobot Roomba 880 for Pets and Allergies 5    \n",
       "7345 1/2/16   iRobot Roomba 880 for Pets and Allergies 5    \n",
       "7346 1/2/16   iRobot Roomba 880 for Pets and Allergies 5    \n",
       "7347 1/2/16   iRobot Roomba 880 for Pets and Allergies 5    \n",
       "7348 1/2/16   iRobot Roomba 880 for Pets and Allergies 5    \n",
       "7349 1/2/16   iRobot Roomba 880 for Pets and Allergies 5    \n",
       "7350 1/2/16   iRobot Roomba 880 for Pets and Allergies 5    \n",
       "7351 1/2/16   iRobot Roomba 880 for Pets and Allergies 5    \n",
       "7352 1/2/16   iRobot Roomba 880 for Pets and Allergies 5    \n",
       "7353 1/2/16   iRobot Roomba 880 for Pets and Allergies 5    \n",
       "7354 1/2/16   iRobot Roomba 880 for Pets and Allergies 5    \n",
       "7355 1/2/16   iRobot Roomba 880 for Pets and Allergies 5    \n",
       "7356 1/2/16   iRobot Roomba 880 for Pets and Allergies 5    \n",
       "7357 1/2/16   iRobot Roomba 880 for Pets and Allergies 5    \n",
       "7358 1/2/16   iRobot Roomba 880 for Pets and Allergies 5    \n",
       "7359 1/2/16   iRobot Roomba 880 for Pets and Allergies 5    \n",
       "7360 1/2/16   iRobot Roomba 880 for Pets and Allergies 5    \n",
       "7361 1/2/16   iRobot Roomba 880 for Pets and Allergies 5    \n",
       "7362 1/2/16   iRobot Roomba 880 for Pets and Allergies 5    \n",
       "7363 6/12/15  iRobot Roomba 880 for Pets and Allergies 5    \n",
       "     Title                                                                                            \n",
       "1    Five Stars                                                                                       \n",
       "2    Love-hate this vaccuum                                                                           \n",
       "3    This vacuum is fantastic!!                                                                       \n",
       "4    This vacuum is fantastic!!                                                                       \n",
       "5    This vacuum is fantastic!!                                                                       \n",
       "6    This vacuum is fantastic!!                                                                       \n",
       "7    This vacuum is fantastic!!                                                                       \n",
       "8    This vacuum is fantastic!!                                                                       \n",
       "9    This vacuum is fantastic!!                                                                       \n",
       "10   This vacuum is fantastic!!                                                                       \n",
       "11   This vacuum is fantastic!!                                                                       \n",
       "12   This vacuum is fantastic!!                                                                       \n",
       "13   This vacuum is fantastic!!                                                                       \n",
       "14   Wow!                                                                                             \n",
       "15   Wow!                                                                                             \n",
       "16   Wow!                                                                                             \n",
       "17   Terrible Product - Ruined our Hardwood Floors!                                                   \n",
       "18   Terrible Product - Ruined our Hardwood Floors!                                                   \n",
       "19   Terrible Product - Ruined our Hardwood Floors!                                                   \n",
       "20   Super-impressed by how well it works!                                                            \n",
       "21   Super-impressed by how well it works!                                                            \n",
       "22   Super-impressed by how well it works!                                                            \n",
       "23   Super-impressed by how well it works!                                                            \n",
       "24   LOVE THIS                                                                                        \n",
       "25   Stress is bad; Roomba is great.                                                                  \n",
       "26   Stress is bad; Roomba is great.                                                                  \n",
       "27   Stress is bad; Roomba is great.                                                                  \n",
       "28   How did I live without this!!?!                                                                  \n",
       "29   How did I live without this!!?!                                                                  \n",
       "30   How did I live without this!!?!                                                                  \n",
       "...  ...                                                                                              \n",
       "7334 High hopes. Big disappointment.                                                                  \n",
       "7335 800 Series Roomba > 900                                                                          \n",
       "7336 Expensive but still a value                                                                      \n",
       "7337 Expensive but still a value                                                                      \n",
       "7338 Expensive but still a value                                                                      \n",
       "7339 Sometimes it fell down the stairs, bam bam bam bam bam, which broke my heart.                    \n",
       "7340 Sometimes it fell down the stairs, bam bam bam bam bam, which broke my heart.                    \n",
       "7341 Sometimes it fell down the stairs, bam bam bam bam bam, which broke my heart.                    \n",
       "7342 Sometimes it fell down the stairs, bam bam bam bam bam, which broke my heart.                    \n",
       "7343 Sometimes it fell down the stairs, bam bam bam bam bam, which broke my heart.                    \n",
       "7344 This thing is amazing. With a dog that sheds more than any ...                                   \n",
       "7345 Best household purchase. Makes me more tidy! Millennial family with young child & allergy issues.\n",
       "7346 Best household purchase. Makes me more tidy! Millennial family with young child & allergy issues.\n",
       "7347 Best household purchase. Makes me more tidy! Millennial family with young child & allergy issues.\n",
       "7348 Best household purchase. Makes me more tidy! Millennial family with young child & allergy issues.\n",
       "7349 Best household purchase. Makes me more tidy! Millennial family with young child & allergy issues.\n",
       "7350 Best household purchase. Makes me more tidy! Millennial family with young child & allergy issues.\n",
       "7351 Best household purchase. Makes me more tidy! Millennial family with young child & allergy issues.\n",
       "7352 Best household purchase. Makes me more tidy! Millennial family with young child & allergy issues.\n",
       "7353 Best household purchase. Makes me more tidy! Millennial family with young child & allergy issues.\n",
       "7354 Best household purchase. Makes me more tidy! Millennial family with young child & allergy issues.\n",
       "7355 Best household purchase. Makes me more tidy! Millennial family with young child & allergy issues.\n",
       "7356 Best household purchase. Makes me more tidy! Millennial family with young child & allergy issues.\n",
       "7357 Best household purchase. Makes me more tidy! Millennial family with young child & allergy issues.\n",
       "7358 Best household purchase. Makes me more tidy! Millennial family with young child & allergy issues.\n",
       "7359 Best household purchase. Makes me more tidy! Millennial family with young child & allergy issues.\n",
       "7360 Best household purchase. Makes me more tidy! Millennial family with young child & allergy issues.\n",
       "7361 Best household purchase. Makes me more tidy! Millennial family with young child & allergy issues.\n",
       "7362 Best household purchase. Makes me more tidy! Millennial family with young child & allergy issues.\n",
       "7363 One word- AWESOME!!!!                                                                            \n",
       "     word         sentiment  \n",
       "1    believe      uncertainty\n",
       "2    could        uncertainty\n",
       "3    slow         negative   \n",
       "4    problem      negative   \n",
       "5    easily       positive   \n",
       "6    seems        uncertainty\n",
       "7    random       uncertainty\n",
       "8    great        positive   \n",
       "9    believe      uncertainty\n",
       "10   easy         positive   \n",
       "11   easy         positive   \n",
       "12   easy         positive   \n",
       "13   great        positive   \n",
       "14   believe      uncertainty\n",
       "15   best         positive   \n",
       "16   invention    positive   \n",
       "17   damage       negative   \n",
       "18   damage       negative   \n",
       "19   justice      litigious  \n",
       "20   may          uncertainty\n",
       "21   impressed    positive   \n",
       "22   almost       uncertainty\n",
       "23   great        positive   \n",
       "24   best         positive   \n",
       "25   prolong      negative   \n",
       "26   stress       negative   \n",
       "27   stress       negative   \n",
       "28   maybe        uncertainty\n",
       "29   good         positive   \n",
       "30   bad          negative   \n",
       "...  ...          ...        \n",
       "7334 disappointed negative   \n",
       "7335 great        positive   \n",
       "7336 easy         positive   \n",
       "7337 seems        uncertainty\n",
       "7338 good         positive   \n",
       "7339 good         positive   \n",
       "7340 stopped      negative   \n",
       "7341 accidents    negative   \n",
       "7342 bad          negative   \n",
       "7343 damage       negative   \n",
       "7344 complaints   negative   \n",
       "7345 best         positive   \n",
       "7346 easy         positive   \n",
       "7347 able         positive   \n",
       "7348 loss         negative   \n",
       "7349 wrong        negative   \n",
       "7350 able         positive   \n",
       "7351 able         positive   \n",
       "7352 able         positive   \n",
       "7353 probably     uncertainty\n",
       "7354 stopped      negative   \n",
       "7355 warning      negative   \n",
       "7356 damage       negative   \n",
       "7357 perfectly    positive   \n",
       "7358 damage       negative   \n",
       "7359 may          uncertainty\n",
       "7360 excited      positive   \n",
       "7361 believe      uncertainty\n",
       "7362 better       positive   \n",
       "7363 best         positive   "
      ]
     },
     "metadata": {},
     "output_type": "display_data"
    }
   ],
   "source": [
    "tidy_review %>%\n",
    "    inner_join(get_sentiments(\"loughran\"))"
   ]
  },
  {
   "cell_type": "markdown",
   "metadata": {},
   "source": [
    "We can see that the number of rows have been drastically reduced, since we have words that have matching words in the sentiment dictionary as retained. We only know the sentiment of the words in our data that are also in the dictionary we're using; thus our sentitment analysis is conditioned on the dictionary we use."
   ]
  },
  {
   "cell_type": "code",
   "execution_count": 20,
   "metadata": {},
   "outputs": [
    {
     "name": "stderr",
     "output_type": "stream",
     "text": [
      "Joining, by = \"word\""
     ]
    },
    {
     "data": {
      "text/html": [
       "<table>\n",
       "<thead><tr><th scope=col>sentiment</th><th scope=col>n</th></tr></thead>\n",
       "<tbody>\n",
       "\t<tr><td>constraining</td><td> 170        </td></tr>\n",
       "\t<tr><td>litigious   </td><td>  81        </td></tr>\n",
       "\t<tr><td>negative    </td><td>2157        </td></tr>\n",
       "\t<tr><td>positive    </td><td>3276        </td></tr>\n",
       "\t<tr><td>superfluous </td><td>   3        </td></tr>\n",
       "\t<tr><td>uncertainty </td><td>1676        </td></tr>\n",
       "</tbody>\n",
       "</table>\n"
      ],
      "text/latex": [
       "\\begin{tabular}{r|ll}\n",
       " sentiment & n\\\\\n",
       "\\hline\n",
       "\t constraining &  170        \\\\\n",
       "\t litigious    &   81        \\\\\n",
       "\t negative     & 2157        \\\\\n",
       "\t positive     & 3276        \\\\\n",
       "\t superfluous  &    3        \\\\\n",
       "\t uncertainty  & 1676        \\\\\n",
       "\\end{tabular}\n"
      ],
      "text/markdown": [
       "\n",
       "| sentiment | n |\n",
       "|---|---|\n",
       "| constraining |  170         |\n",
       "| litigious    |   81         |\n",
       "| negative     | 2157         |\n",
       "| positive     | 3276         |\n",
       "| superfluous  |    3         |\n",
       "| uncertainty  | 1676         |\n",
       "\n"
      ],
      "text/plain": [
       "  sentiment    n   \n",
       "1 constraining  170\n",
       "2 litigious      81\n",
       "3 negative     2157\n",
       "4 positive     3276\n",
       "5 superfluous     3\n",
       "6 uncertainty  1676"
      ]
     },
     "metadata": {},
     "output_type": "display_data"
    }
   ],
   "source": [
    "# count sentiment\n",
    "\n",
    "sentiment_review <- tidy_review %>%\n",
    "    inner_join(get_sentiments(\"loughran\"))\n",
    "\n",
    "sentiment_review %>%\n",
    "    count(sentiment)"
   ]
  },
  {
   "cell_type": "markdown",
   "metadata": {},
   "source": [
    "We can see that the reviews on aggregate are eaully positive and negative using the sentiment dictionary."
   ]
  },
  {
   "cell_type": "code",
   "execution_count": 21,
   "metadata": {},
   "outputs": [
    {
     "data": {
      "text/html": [
       "<table>\n",
       "<thead><tr><th scope=col>word</th><th scope=col>sentiment</th><th scope=col>n</th></tr></thead>\n",
       "<tbody>\n",
       "\t<tr><td>great       </td><td>positive    </td><td>585         </td></tr>\n",
       "\t<tr><td>good        </td><td>positive    </td><td>426         </td></tr>\n",
       "\t<tr><td>better      </td><td>positive    </td><td>313         </td></tr>\n",
       "\t<tr><td>easy        </td><td>positive    </td><td>297         </td></tr>\n",
       "\t<tr><td>could       </td><td>uncertainty </td><td>258         </td></tr>\n",
       "\t<tr><td>best        </td><td>positive    </td><td>239         </td></tr>\n",
       "\t<tr><td>problem     </td><td>negative    </td><td>192         </td></tr>\n",
       "\t<tr><td>seems       </td><td>uncertainty </td><td>178         </td></tr>\n",
       "\t<tr><td>may         </td><td>uncertainty </td><td>139         </td></tr>\n",
       "\t<tr><td>sometimes   </td><td>uncertainty </td><td>135         </td></tr>\n",
       "\t<tr><td>almost      </td><td>uncertainty </td><td>127         </td></tr>\n",
       "\t<tr><td>able        </td><td>positive    </td><td>109         </td></tr>\n",
       "\t<tr><td>happy       </td><td>positive    </td><td>107         </td></tr>\n",
       "\t<tr><td>probably    </td><td>uncertainty </td><td>103         </td></tr>\n",
       "\t<tr><td>easier      </td><td>positive    </td><td> 97         </td></tr>\n",
       "\t<tr><td>easily      </td><td>positive    </td><td> 92         </td></tr>\n",
       "\t<tr><td>perfect     </td><td>positive    </td><td> 87         </td></tr>\n",
       "\t<tr><td>might       </td><td>uncertainty </td><td> 86         </td></tr>\n",
       "\t<tr><td>problems    </td><td>negative    </td><td> 83         </td></tr>\n",
       "\t<tr><td>random      </td><td>uncertainty </td><td> 81         </td></tr>\n",
       "\t<tr><td>impressed   </td><td>positive    </td><td> 77         </td></tr>\n",
       "\t<tr><td>maybe       </td><td>uncertainty </td><td> 68         </td></tr>\n",
       "\t<tr><td>believe     </td><td>uncertainty </td><td> 66         </td></tr>\n",
       "\t<tr><td>excellent   </td><td>positive    </td><td> 58         </td></tr>\n",
       "\t<tr><td>trouble     </td><td>negative    </td><td> 58         </td></tr>\n",
       "\t<tr><td>fantastic   </td><td>positive    </td><td> 56         </td></tr>\n",
       "\t<tr><td>stopped     </td><td>negative    </td><td> 53         </td></tr>\n",
       "\t<tr><td>bad         </td><td>negative    </td><td> 47         </td></tr>\n",
       "\t<tr><td>occasionally</td><td>uncertainty </td><td> 43         </td></tr>\n",
       "\t<tr><td>disappointed</td><td>negative    </td><td> 42         </td></tr>\n",
       "\t<tr><td>...</td><td>...</td><td>...</td></tr>\n",
       "\t<tr><td>underperforming</td><td>negative       </td><td>1              </td></tr>\n",
       "\t<tr><td>underperforms  </td><td>negative       </td><td>1              </td></tr>\n",
       "\t<tr><td>unexpectedly   </td><td>negative       </td><td>1              </td></tr>\n",
       "\t<tr><td>unexpectedly   </td><td>uncertainty    </td><td>1              </td></tr>\n",
       "\t<tr><td>unfounded      </td><td>negative       </td><td>1              </td></tr>\n",
       "\t<tr><td>unintentionally</td><td>negative       </td><td>1              </td></tr>\n",
       "\t<tr><td>unknown        </td><td>uncertainty    </td><td>1              </td></tr>\n",
       "\t<tr><td>unpredictable  </td><td>negative       </td><td>1              </td></tr>\n",
       "\t<tr><td>unpredictable  </td><td>uncertainty    </td><td>1              </td></tr>\n",
       "\t<tr><td>unrealistic    </td><td>negative       </td><td>1              </td></tr>\n",
       "\t<tr><td>unreliable     </td><td>negative       </td><td>1              </td></tr>\n",
       "\t<tr><td>unscheduled    </td><td>negative       </td><td>1              </td></tr>\n",
       "\t<tr><td>unstable       </td><td>negative       </td><td>1              </td></tr>\n",
       "\t<tr><td>variations     </td><td>uncertainty    </td><td>1              </td></tr>\n",
       "\t<tr><td>varied         </td><td>uncertainty    </td><td>1              </td></tr>\n",
       "\t<tr><td>vary           </td><td>uncertainty    </td><td>1              </td></tr>\n",
       "\t<tr><td>versatility    </td><td>positive       </td><td>1              </td></tr>\n",
       "\t<tr><td>violently      </td><td>negative       </td><td>1              </td></tr>\n",
       "\t<tr><td>voided         </td><td>litigious      </td><td>1              </td></tr>\n",
       "\t<tr><td>voided         </td><td>negative       </td><td>1              </td></tr>\n",
       "\t<tr><td>warn           </td><td>negative       </td><td>1              </td></tr>\n",
       "\t<tr><td>warnings       </td><td>negative       </td><td>1              </td></tr>\n",
       "\t<tr><td>wasted         </td><td>negative       </td><td>1              </td></tr>\n",
       "\t<tr><td>weakened       </td><td>negative       </td><td>1              </td></tr>\n",
       "\t<tr><td>weakest        </td><td>negative       </td><td>1              </td></tr>\n",
       "\t<tr><td>weaknesses     </td><td>negative       </td><td>1              </td></tr>\n",
       "\t<tr><td>winner         </td><td>positive       </td><td>1              </td></tr>\n",
       "\t<tr><td>winning        </td><td>positive       </td><td>1              </td></tr>\n",
       "\t<tr><td>witness        </td><td>litigious      </td><td>1              </td></tr>\n",
       "\t<tr><td>worthy         </td><td>positive       </td><td>1              </td></tr>\n",
       "</tbody>\n",
       "</table>\n"
      ],
      "text/latex": [
       "\\begin{tabular}{r|lll}\n",
       " word & sentiment & n\\\\\n",
       "\\hline\n",
       "\t great        & positive     & 585         \\\\\n",
       "\t good         & positive     & 426         \\\\\n",
       "\t better       & positive     & 313         \\\\\n",
       "\t easy         & positive     & 297         \\\\\n",
       "\t could        & uncertainty  & 258         \\\\\n",
       "\t best         & positive     & 239         \\\\\n",
       "\t problem      & negative     & 192         \\\\\n",
       "\t seems        & uncertainty  & 178         \\\\\n",
       "\t may          & uncertainty  & 139         \\\\\n",
       "\t sometimes    & uncertainty  & 135         \\\\\n",
       "\t almost       & uncertainty  & 127         \\\\\n",
       "\t able         & positive     & 109         \\\\\n",
       "\t happy        & positive     & 107         \\\\\n",
       "\t probably     & uncertainty  & 103         \\\\\n",
       "\t easier       & positive     &  97         \\\\\n",
       "\t easily       & positive     &  92         \\\\\n",
       "\t perfect      & positive     &  87         \\\\\n",
       "\t might        & uncertainty  &  86         \\\\\n",
       "\t problems     & negative     &  83         \\\\\n",
       "\t random       & uncertainty  &  81         \\\\\n",
       "\t impressed    & positive     &  77         \\\\\n",
       "\t maybe        & uncertainty  &  68         \\\\\n",
       "\t believe      & uncertainty  &  66         \\\\\n",
       "\t excellent    & positive     &  58         \\\\\n",
       "\t trouble      & negative     &  58         \\\\\n",
       "\t fantastic    & positive     &  56         \\\\\n",
       "\t stopped      & negative     &  53         \\\\\n",
       "\t bad          & negative     &  47         \\\\\n",
       "\t occasionally & uncertainty  &  43         \\\\\n",
       "\t disappointed & negative     &  42         \\\\\n",
       "\t ... & ... & ...\\\\\n",
       "\t underperforming & negative        & 1              \\\\\n",
       "\t underperforms   & negative        & 1              \\\\\n",
       "\t unexpectedly    & negative        & 1              \\\\\n",
       "\t unexpectedly    & uncertainty     & 1              \\\\\n",
       "\t unfounded       & negative        & 1              \\\\\n",
       "\t unintentionally & negative        & 1              \\\\\n",
       "\t unknown         & uncertainty     & 1              \\\\\n",
       "\t unpredictable   & negative        & 1              \\\\\n",
       "\t unpredictable   & uncertainty     & 1              \\\\\n",
       "\t unrealistic     & negative        & 1              \\\\\n",
       "\t unreliable      & negative        & 1              \\\\\n",
       "\t unscheduled     & negative        & 1              \\\\\n",
       "\t unstable        & negative        & 1              \\\\\n",
       "\t variations      & uncertainty     & 1              \\\\\n",
       "\t varied          & uncertainty     & 1              \\\\\n",
       "\t vary            & uncertainty     & 1              \\\\\n",
       "\t versatility     & positive        & 1              \\\\\n",
       "\t violently       & negative        & 1              \\\\\n",
       "\t voided          & litigious       & 1              \\\\\n",
       "\t voided          & negative        & 1              \\\\\n",
       "\t warn            & negative        & 1              \\\\\n",
       "\t warnings        & negative        & 1              \\\\\n",
       "\t wasted          & negative        & 1              \\\\\n",
       "\t weakened        & negative        & 1              \\\\\n",
       "\t weakest         & negative        & 1              \\\\\n",
       "\t weaknesses      & negative        & 1              \\\\\n",
       "\t winner          & positive        & 1              \\\\\n",
       "\t winning         & positive        & 1              \\\\\n",
       "\t witness         & litigious       & 1              \\\\\n",
       "\t worthy          & positive        & 1              \\\\\n",
       "\\end{tabular}\n"
      ],
      "text/markdown": [
       "\n",
       "| word | sentiment | n |\n",
       "|---|---|---|\n",
       "| great        | positive     | 585          |\n",
       "| good         | positive     | 426          |\n",
       "| better       | positive     | 313          |\n",
       "| easy         | positive     | 297          |\n",
       "| could        | uncertainty  | 258          |\n",
       "| best         | positive     | 239          |\n",
       "| problem      | negative     | 192          |\n",
       "| seems        | uncertainty  | 178          |\n",
       "| may          | uncertainty  | 139          |\n",
       "| sometimes    | uncertainty  | 135          |\n",
       "| almost       | uncertainty  | 127          |\n",
       "| able         | positive     | 109          |\n",
       "| happy        | positive     | 107          |\n",
       "| probably     | uncertainty  | 103          |\n",
       "| easier       | positive     |  97          |\n",
       "| easily       | positive     |  92          |\n",
       "| perfect      | positive     |  87          |\n",
       "| might        | uncertainty  |  86          |\n",
       "| problems     | negative     |  83          |\n",
       "| random       | uncertainty  |  81          |\n",
       "| impressed    | positive     |  77          |\n",
       "| maybe        | uncertainty  |  68          |\n",
       "| believe      | uncertainty  |  66          |\n",
       "| excellent    | positive     |  58          |\n",
       "| trouble      | negative     |  58          |\n",
       "| fantastic    | positive     |  56          |\n",
       "| stopped      | negative     |  53          |\n",
       "| bad          | negative     |  47          |\n",
       "| occasionally | uncertainty  |  43          |\n",
       "| disappointed | negative     |  42          |\n",
       "| ... | ... | ... |\n",
       "| underperforming | negative        | 1               |\n",
       "| underperforms   | negative        | 1               |\n",
       "| unexpectedly    | negative        | 1               |\n",
       "| unexpectedly    | uncertainty     | 1               |\n",
       "| unfounded       | negative        | 1               |\n",
       "| unintentionally | negative        | 1               |\n",
       "| unknown         | uncertainty     | 1               |\n",
       "| unpredictable   | negative        | 1               |\n",
       "| unpredictable   | uncertainty     | 1               |\n",
       "| unrealistic     | negative        | 1               |\n",
       "| unreliable      | negative        | 1               |\n",
       "| unscheduled     | negative        | 1               |\n",
       "| unstable        | negative        | 1               |\n",
       "| variations      | uncertainty     | 1               |\n",
       "| varied          | uncertainty     | 1               |\n",
       "| vary            | uncertainty     | 1               |\n",
       "| versatility     | positive        | 1               |\n",
       "| violently       | negative        | 1               |\n",
       "| voided          | litigious       | 1               |\n",
       "| voided          | negative        | 1               |\n",
       "| warn            | negative        | 1               |\n",
       "| warnings        | negative        | 1               |\n",
       "| wasted          | negative        | 1               |\n",
       "| weakened        | negative        | 1               |\n",
       "| weakest         | negative        | 1               |\n",
       "| weaknesses      | negative        | 1               |\n",
       "| winner          | positive        | 1               |\n",
       "| winning         | positive        | 1               |\n",
       "| witness         | litigious       | 1               |\n",
       "| worthy          | positive        | 1               |\n",
       "\n"
      ],
      "text/plain": [
       "    word            sentiment   n  \n",
       "1   great           positive    585\n",
       "2   good            positive    426\n",
       "3   better          positive    313\n",
       "4   easy            positive    297\n",
       "5   could           uncertainty 258\n",
       "6   best            positive    239\n",
       "7   problem         negative    192\n",
       "8   seems           uncertainty 178\n",
       "9   may             uncertainty 139\n",
       "10  sometimes       uncertainty 135\n",
       "11  almost          uncertainty 127\n",
       "12  able            positive    109\n",
       "13  happy           positive    107\n",
       "14  probably        uncertainty 103\n",
       "15  easier          positive     97\n",
       "16  easily          positive     92\n",
       "17  perfect         positive     87\n",
       "18  might           uncertainty  86\n",
       "19  problems        negative     83\n",
       "20  random          uncertainty  81\n",
       "21  impressed       positive     77\n",
       "22  maybe           uncertainty  68\n",
       "23  believe         uncertainty  66\n",
       "24  excellent       positive     58\n",
       "25  trouble         negative     58\n",
       "26  fantastic       positive     56\n",
       "27  stopped         negative     53\n",
       "28  bad             negative     47\n",
       "29  occasionally    uncertainty  43\n",
       "30  disappointed    negative     42\n",
       "... ...             ...         ...\n",
       "607 underperforming negative    1  \n",
       "608 underperforms   negative    1  \n",
       "609 unexpectedly    negative    1  \n",
       "610 unexpectedly    uncertainty 1  \n",
       "611 unfounded       negative    1  \n",
       "612 unintentionally negative    1  \n",
       "613 unknown         uncertainty 1  \n",
       "614 unpredictable   negative    1  \n",
       "615 unpredictable   uncertainty 1  \n",
       "616 unrealistic     negative    1  \n",
       "617 unreliable      negative    1  \n",
       "618 unscheduled     negative    1  \n",
       "619 unstable        negative    1  \n",
       "620 variations      uncertainty 1  \n",
       "621 varied          uncertainty 1  \n",
       "622 vary            uncertainty 1  \n",
       "623 versatility     positive    1  \n",
       "624 violently       negative    1  \n",
       "625 voided          litigious   1  \n",
       "626 voided          negative    1  \n",
       "627 warn            negative    1  \n",
       "628 warnings        negative    1  \n",
       "629 wasted          negative    1  \n",
       "630 weakened        negative    1  \n",
       "631 weakest         negative    1  \n",
       "632 weaknesses      negative    1  \n",
       "633 winner          positive    1  \n",
       "634 winning         positive    1  \n",
       "635 witness         litigious   1  \n",
       "636 worthy          positive    1  "
      ]
     },
     "metadata": {},
     "output_type": "display_data"
    }
   ],
   "source": [
    "sentiment_review %>%\n",
    "    count(word, sentiment) %>%\n",
    "    arrange(desc(n))"
   ]
  },
  {
   "cell_type": "markdown",
   "metadata": {},
   "source": [
    "This gives us an idead by both word and sentiment to find what words are used more often for each sentiment. The key words for highest frequency are:\n",
    "    \n",
    "    1. great\n",
    "    2. good\n",
    "    3. better\n",
    "    4. easy\n",
    "    5. could"
   ]
  },
  {
   "cell_type": "code",
   "execution_count": 22,
   "metadata": {},
   "outputs": [
    {
     "data": {
      "image/png": "[encoded data removed]",
      "text/plain": [
       "plot without title"
      ]
     },
     "metadata": {},
     "output_type": "display_data"
    }
   ],
   "source": [
    "#top 10 positive and negative words in order\n",
    "\n",
    "sentiment_review2 <- sentiment_review %>%\n",
    "    filter(sentiment %in% c(\"positive\", \"negative\"))\n",
    "\n",
    "word_counts <- sentiment_review2 %>%\n",
    "    count(word, sentiment) %>%\n",
    "    group_by(sentiment) %>%\n",
    "    top_n(10, n) %>%\n",
    "    ungroup() %>%\n",
    "    mutate(\n",
    "        word2 = fct_reorder(word, n)\n",
    "    )\n",
    "\n",
    "\n",
    "ggplot(word_counts,  aes(x = word2, y = n, fill = sentiment)) +\n",
    "    geom_col(show.legend = FALSE) +\n",
    "    facet_wrap(~sentiment, scales = \"free\") +\n",
    "    coord_flip() +\n",
    "    labs(\n",
    "        title = \"Sentiment Word Counts\",\n",
    "        x = \"Words\"\n",
    "    )"
   ]
  },
  {
   "cell_type": "markdown",
   "metadata": {},
   "source": [
    "### Document term matrices"
   ]
  },
  {
   "cell_type": "code",
   "execution_count": 34,
   "metadata": {},
   "outputs": [
    {
     "name": "stderr",
     "output_type": "stream",
     "text": [
      "ERROR while rich displaying an object: Error in sprintf(wrap, header, body): 'fmt' length exceeds maximal format length 8192\n",
      "\n",
      "Traceback:\n",
      "1. FUN(X[[i]], ...)\n",
      "2. tryCatch(withCallingHandlers({\n",
      " .     if (!mime %in% names(repr::mime2repr)) \n",
      " .         stop(\"No repr_* for mimetype \", mime, \" in repr::mime2repr\")\n",
      " .     rpr <- repr::mime2repr[[mime]](obj)\n",
      " .     if (is.null(rpr)) \n",
      " .         return(NULL)\n",
      " .     prepare_content(is.raw(rpr), rpr)\n",
      " . }, error = error_handler), error = outer_handler)\n",
      "3. tryCatchList(expr, classes, parentenv, handlers)\n",
      "4. tryCatchOne(expr, names, parentenv, handlers[[1L]])\n",
      "5. doTryCatch(return(expr), name, parentenv, handler)\n",
      "6. withCallingHandlers({\n",
      " .     if (!mime %in% names(repr::mime2repr)) \n",
      " .         stop(\"No repr_* for mimetype \", mime, \" in repr::mime2repr\")\n",
      " .     rpr <- repr::mime2repr[[mime]](obj)\n",
      " .     if (is.null(rpr)) \n",
      " .         return(NULL)\n",
      " .     prepare_content(is.raw(rpr), rpr)\n",
      " . }, error = error_handler)\n",
      "7. repr::mime2repr[[mime]](obj)\n",
      "8. repr_latex.matrix(obj)\n",
      "9. repr_matrix_generic(obj, sprintf(\"\\\\begin{tabular}{%s}\\n%%s%%s\\\\end{tabular}\\n\", \n",
      " .     cols), \"%s\\\\\\\\\\n\\\\hline\\n\", \"  &\", \" %s &\", \"%s\", \"\\t%s\\\\\\\\\\n\", \n",
      " .     \"%s &\", \" %s &\", escape_fun = latex_escape_vec, ...)\n",
      "10. sprintf(wrap, header, body)\n"
     ]
    },
    {
     "data": {
      "text/html": [
       "<table>\n",
       "<thead><tr><th></th><th scope=col>______________________________________________________________________first</th><th scope=col>0.3</th><th scope=col>0.5</th><th scope=col>0_0</th><th scope=col>00</th><th scope=col>00am</th><th scope=col>00pm</th><th scope=col>01</th><th scope=col>02</th><th scope=col>09</th><th scope=col>...</th><th scope=col>zips</th><th scope=col>zombie</th><th scope=col>zone</th><th scope=col>zones</th><th scope=col>zoo</th><th scope=col>zoom</th><th scope=col>zooms</th><th scope=col>zumba</th><th scope=col>zyrtec</th><th scope=col>NA</th></tr></thead>\n",
       "<tbody>\n",
       "\t<tr><th scope=row>iRobot Roomba 650 for Pets</th><td>1  </td><td>0  </td><td>1  </td><td>1  </td><td>2  </td><td>1  </td><td>2  </td><td>1  </td><td>1  </td><td>1  </td><td>...</td><td>1  </td><td>1  </td><td> 0 </td><td>1  </td><td>0  </td><td>1  </td><td>0  </td><td>1  </td><td>0  </td><td>1  </td></tr>\n",
       "\t<tr><th scope=row>iRobot Roomba 880 for Pets and Allergies</th><td>0  </td><td>1  </td><td>0  </td><td>0  </td><td>5  </td><td>2  </td><td>0  </td><td>0  </td><td>0  </td><td>0  </td><td>...</td><td>1  </td><td>0  </td><td>21 </td><td>9  </td><td>2  </td><td>1  </td><td>1  </td><td>0  </td><td>1  </td><td>0  </td></tr>\n",
       "</tbody>\n",
       "</table>\n"
      ],
      "text/markdown": [
       "\n",
       "| <!--/--> | ______________________________________________________________________first | 0.3 | 0.5 | 0_0 | 00 | 00am | 00pm | 01 | 02 | 09 | ... | zips | zombie | zone | zones | zoo | zoom | zooms | zumba | zyrtec | NA |\n",
       "|---|---|---|---|---|---|---|---|---|---|---|---|---|---|---|---|---|---|---|---|---|---|\n",
       "| iRobot Roomba 650 for Pets | 1   | 0   | 1   | 1   | 2   | 1   | 2   | 1   | 1   | 1   | ... | 1   | 1   |  0  | 1   | 0   | 1   | 0   | 1   | 0   | 1   |\n",
       "| iRobot Roomba 880 for Pets and Allergies | 0   | 1   | 0   | 0   | 5   | 2   | 0   | 0   | 0   | 0   | ... | 1   | 0   | 21  | 9   | 2   | 1   | 1   | 0   | 1   | 0   |\n",
       "\n"
      ],
      "text/plain": [
       "                                         ______________________________________________________________________first\n",
       "iRobot Roomba 650 for Pets               1                                                                          \n",
       "iRobot Roomba 880 for Pets and Allergies 0                                                                          \n",
       "                                         0.3 0.5 0_0 00 00am 00pm 01 02 09 ...\n",
       "iRobot Roomba 650 for Pets               0   1   1   2  1    2    1  1  1  ...\n",
       "iRobot Roomba 880 for Pets and Allergies 1   0   0   5  2    0    0  0  0  ...\n",
       "                                         zips zombie zone zones zoo zoom zooms\n",
       "iRobot Roomba 650 for Pets               1    1       0   1     0   1    0    \n",
       "iRobot Roomba 880 for Pets and Allergies 1    0      21   9     2   1    1    \n",
       "                                         zumba zyrtec <NA>\n",
       "iRobot Roomba 650 for Pets               1     0      1   \n",
       "iRobot Roomba 880 for Pets and Allergies 0     1      0   "
      ]
     },
     "metadata": {},
     "output_type": "display_data"
    }
   ],
   "source": [
    "dtm_review <- tidy_review %>%\n",
    "    count(word, Product) %>%\n",
    "    cast_dtm(Product, word, n) %>%\n",
    "    as.matrix()\n",
    "\n",
    "head(dtm_review)"
   ]
  },
  {
   "cell_type": "code",
   "execution_count": null,
   "metadata": {},
   "outputs": [],
   "source": [
    "library(topicmodels)"
   ]
  },
  {
   "cell_type": "code",
   "execution_count": 36,
   "metadata": {},
   "outputs": [],
   "source": [
    "lda_out <- LDA(\n",
    "    dtm_review,\n",
    "    k = 2,\n",
    "    method = \"Gibbs\",\n",
    "    control = list(seed = 42)\n",
    ")"
   ]
  },
  {
   "cell_type": "code",
   "execution_count": 37,
   "metadata": {},
   "outputs": [
    {
     "data": {
      "text/plain": [
       "A LDA_Gibbs topic model with 2 topics."
      ]
     },
     "metadata": {},
     "output_type": "display_data"
    }
   ],
   "source": [
    "lda_out"
   ]
  },
  {
   "cell_type": "code",
   "execution_count": 38,
   "metadata": {},
   "outputs": [
    {
     "name": "stdout",
     "output_type": "stream",
     "text": [
      "Formal class 'LDA_Gibbs' [package \"topicmodels\"] with 16 slots\n",
      "  ..@ seedwords      : NULL\n",
      "  ..@ z              : int [1:229481] 2 1 2 1 1 2 2 1 2 2 ...\n",
      "  ..@ alpha          : num 25\n",
      "  ..@ call           : language LDA(x = dtm_review, k = 2, method = \"Gibbs\", control = list(seed = 42))\n",
      "  ..@ Dim            : int [1:2] 2 10310\n",
      "  ..@ control        :Formal class 'LDA_Gibbscontrol' [package \"topicmodels\"] with 14 slots\n",
      "  ..@ k              : int 2\n",
      "  ..@ terms          : chr [1:10310] \"______________________________________________________________________first\" \"0.3\" \"0.5\" \"0_0\" ...\n",
      "  ..@ documents      : chr [1:2] \"iRobot Roomba 650 for Pets\" \"iRobot Roomba 880 for Pets and Allergies\"\n",
      "  ..@ beta           : num [1:2, 1:10310] -14.56 -9.82 -14.56 -9.82 -12.17 ...\n",
      "  ..@ gamma          : num [1:2, 1:2] 0.949 0.9016 0.051 0.0984\n",
      "  ..@ wordassignments:List of 5\n",
      "  .. ..$ i   : int [1:13917] 1 1 1 1 1 1 1 1 1 1 ...\n",
      "  .. ..$ j   : int [1:13917] 1 3 4 5 6 7 8 9 10 11 ...\n",
      "  .. ..$ v   : num [1:13917] 2 1 2 1 2 1 2 2 2 1 ...\n",
      "  .. ..$ nrow: int 2\n",
      "  .. ..$ ncol: int 10310\n",
      "  .. ..- attr(*, \"class\")= chr \"simple_triplet_matrix\"\n",
      "  ..@ loglikelihood  : num -1429121\n",
      "  ..@ iter           : int 2000\n",
      "  ..@ logLiks        : num(0) \n",
      "  ..@ n              : int 229481\n"
     ]
    }
   ],
   "source": [
    "glimpse(lda_out)"
   ]
  },
  {
   "cell_type": "code",
   "execution_count": 47,
   "metadata": {},
   "outputs": [],
   "source": [
    "lda_topics <- LDA(\n",
    "    dtm_review,\n",
    "    k = 4,\n",
    "    method = \"Gibbs\",\n",
    "    control = list(seed = 42)\n",
    ") %>%\n",
    "    tidy(matrix = \"beta\")\n",
    "word_probs <- lda_topics %>%\n",
    "    group_by(topic) %>%\n",
    "    top_n(15, beta) %>%\n",
    "    ungroup() %>%\n",
    "    mutate(term2 = fct_reorder(term, beta))"
   ]
  },
  {
   "cell_type": "code",
   "execution_count": 48,
   "metadata": {},
   "outputs": [
    {
     "data": {
      "image/png": "[encoded data removed]",
      "text/plain": [
       "plot without title"
      ]
     },
     "metadata": {},
     "output_type": "display_data"
    }
   ],
   "source": [
    "ggplot(\n",
    "    word_probs,\n",
    "aes(\n",
    "    term2,\n",
    "    beta,\n",
    "    fill = as.factor(topic)\n",
    ")\n",
    ")+\n",
    "    geom_col(show.legend = FALSE) +\n",
    "    facet_wrap(~topic, scales = \"free\") +\n",
    "    coord_flip()"
   ]
  },
  {
   "cell_type": "markdown",
   "metadata": {},
   "source": [
    "We can see that each topic splits it into different types of catergories. Topic 3 looks like functionality while  topic 4 looks like experiences."
   ]
  },
  {
   "cell_type": "code",
   "execution_count": null,
   "metadata": {},
   "outputs": [],
   "source": []
  }
 ],
 "metadata": {
  "kernelspec": {
   "display_name": "R",
   "language": "R",
   "name": "ir"
  },
  "language_info": {
   "codemirror_mode": "r",
   "file_extension": ".r",
   "mimetype": "text/x-r-source",
   "name": "R",
   "pygments_lexer": "r",
   "version": "3.6.1"
  }
 },
 "nbformat": 4,
 "nbformat_minor": 2
}
